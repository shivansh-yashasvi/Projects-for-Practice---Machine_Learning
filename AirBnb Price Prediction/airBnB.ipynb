{
  "cells": [
    {
      "cell_type": "markdown",
      "metadata": {
        "id": "Cg9oG3DKBPqx"
      },
      "source": [
        "# Importing Libraries"
      ]
    },
    {
      "cell_type": "code",
      "execution_count": 54,
      "metadata": {
        "id": "-4AwHhHIVh6o"
      },
      "outputs": [],
      "source": [
        "import numpy as np\n",
        "import pandas as pd\n",
        "import matplotlib.pyplot as plt\n",
        "import seaborn as sns\n",
        "\n",
        "\n",
        "from sklearn.preprocessing import StandardScaler\n",
        "from sklearn.model_selection import train_test_split\n",
        "from sklearn.metrics import mean_squared_error, r2_score,mean_absolute_error\n",
        "\n",
        "\n",
        "import statsmodels.api as sm # constants and OLS Regression\n",
        "from sklearn.linear_model import LinearRegression\n",
        "# encoding\n",
        "from sklearn.preprocessing import LabelEncoder\n",
        "\n",
        "from sklearn.neural_network import MLPRegressor\n",
        "from sklearn.tree import DecisionTreeRegressor"
      ]
    },
    {
      "cell_type": "markdown",
      "metadata": {
        "id": "PamOt2sEBUKy"
      },
      "source": [
        "# Loading Dataset"
      ]
    },
    {
      "cell_type": "code",
      "execution_count": 55,
      "metadata": {
        "colab": {
          "base_uri": "https://localhost:8080/"
        },
        "id": "HnE9jwvJXvBr",
        "outputId": "a1dfa509-9573-4136-dc86-e468b38de0dc"
      },
      "outputs": [
        {
          "name": "stdout",
          "output_type": "stream",
          "text": [
            "--2023-12-24 07:09:56--  https://raw.githubusercontent.com/shivansh-yashasvi/Projects-for-Practice---Machine_Learning/main/AirBnb%20Price%20Prediction/Dataset/AB_NYC_2019.csv\n",
            "Resolving raw.githubusercontent.com (raw.githubusercontent.com)... 185.199.108.133, 185.199.109.133, 185.199.110.133, ...\n",
            "Connecting to raw.githubusercontent.com (raw.githubusercontent.com)|185.199.108.133|:443... connected.\n",
            "HTTP request sent, awaiting response... 200 OK\n",
            "Length: 7016470 (6.7M) [text/plain]\n",
            "Saving to: ‘AB_NYC_2019.csv’\n",
            "\n",
            "\rAB_NYC_2019.csv       0%[                    ]       0  --.-KB/s               \rAB_NYC_2019.csv     100%[===================>]   6.69M  --.-KB/s    in 0.03s   \n",
            "\n",
            "2023-12-24 07:09:56 (200 MB/s) - ‘AB_NYC_2019.csv’ saved [7016470/7016470]\n",
            "\n"
          ]
        }
      ],
      "source": [
        "raw_url = \"https://raw.githubusercontent.com/shivansh-yashasvi/Projects-for-Practice---Machine_Learning/main/AirBnb%20Price%20Prediction/Dataset/AB_NYC_2019.csv\"\n",
        "\n",
        "# Download the CSV file from GitHub\n",
        "!wget -O AB_NYC_2019.csv $raw_url"
      ]
    },
    {
      "cell_type": "code",
      "execution_count": 56,
      "metadata": {
        "colab": {
          "base_uri": "https://localhost:8080/",
          "height": 417
        },
        "id": "JLv7jd6XWnOJ",
        "outputId": "68cbb340-258b-4db2-e88c-6308a5f21229"
      },
      "outputs": [
        {
          "data": {
            "text/html": [
              "\n",
              "  <div id=\"df-767f1018-b2bc-41d7-96ef-7c8fec8a135a\" class=\"colab-df-container\">\n",
              "    <div>\n",
              "<style scoped>\n",
              "    .dataframe tbody tr th:only-of-type {\n",
              "        vertical-align: middle;\n",
              "    }\n",
              "\n",
              "    .dataframe tbody tr th {\n",
              "        vertical-align: top;\n",
              "    }\n",
              "\n",
              "    .dataframe thead th {\n",
              "        text-align: right;\n",
              "    }\n",
              "</style>\n",
              "<table border=\"1\" class=\"dataframe\">\n",
              "  <thead>\n",
              "    <tr style=\"text-align: right;\">\n",
              "      <th></th>\n",
              "      <th>id</th>\n",
              "      <th>name</th>\n",
              "      <th>host_id</th>\n",
              "      <th>host_name</th>\n",
              "      <th>neighbourhood_group</th>\n",
              "      <th>neighbourhood</th>\n",
              "      <th>latitude</th>\n",
              "      <th>longitude</th>\n",
              "      <th>room_type</th>\n",
              "      <th>price</th>\n",
              "      <th>minimum_nights</th>\n",
              "      <th>number_of_reviews</th>\n",
              "      <th>last_review</th>\n",
              "      <th>reviews_per_month</th>\n",
              "      <th>calculated_host_listings_count</th>\n",
              "      <th>availability_365</th>\n",
              "    </tr>\n",
              "  </thead>\n",
              "  <tbody>\n",
              "    <tr>\n",
              "      <th>0</th>\n",
              "      <td>2539</td>\n",
              "      <td>Clean &amp; quiet apt home by the park</td>\n",
              "      <td>2787</td>\n",
              "      <td>John</td>\n",
              "      <td>Brooklyn</td>\n",
              "      <td>Kensington</td>\n",
              "      <td>40.64749</td>\n",
              "      <td>-73.97237</td>\n",
              "      <td>Private room</td>\n",
              "      <td>149</td>\n",
              "      <td>1</td>\n",
              "      <td>9</td>\n",
              "      <td>10/19/2018</td>\n",
              "      <td>0.21</td>\n",
              "      <td>6</td>\n",
              "      <td>365</td>\n",
              "    </tr>\n",
              "    <tr>\n",
              "      <th>1</th>\n",
              "      <td>2595</td>\n",
              "      <td>Skylit Midtown Castle</td>\n",
              "      <td>2845</td>\n",
              "      <td>Jennifer</td>\n",
              "      <td>Manhattan</td>\n",
              "      <td>Midtown</td>\n",
              "      <td>40.75362</td>\n",
              "      <td>-73.98377</td>\n",
              "      <td>Entire home/apt</td>\n",
              "      <td>225</td>\n",
              "      <td>1</td>\n",
              "      <td>45</td>\n",
              "      <td>5/21/2019</td>\n",
              "      <td>0.38</td>\n",
              "      <td>2</td>\n",
              "      <td>355</td>\n",
              "    </tr>\n",
              "    <tr>\n",
              "      <th>2</th>\n",
              "      <td>3647</td>\n",
              "      <td>THE VILLAGE OF HARLEM....NEW YORK !</td>\n",
              "      <td>4632</td>\n",
              "      <td>Elisabeth</td>\n",
              "      <td>Manhattan</td>\n",
              "      <td>Harlem</td>\n",
              "      <td>40.80902</td>\n",
              "      <td>-73.94190</td>\n",
              "      <td>Private room</td>\n",
              "      <td>150</td>\n",
              "      <td>3</td>\n",
              "      <td>0</td>\n",
              "      <td>NaN</td>\n",
              "      <td>NaN</td>\n",
              "      <td>1</td>\n",
              "      <td>365</td>\n",
              "    </tr>\n",
              "    <tr>\n",
              "      <th>3</th>\n",
              "      <td>3831</td>\n",
              "      <td>Cozy Entire Floor of Brownstone</td>\n",
              "      <td>4869</td>\n",
              "      <td>LisaRoxanne</td>\n",
              "      <td>Brooklyn</td>\n",
              "      <td>Clinton Hill</td>\n",
              "      <td>40.68514</td>\n",
              "      <td>-73.95976</td>\n",
              "      <td>Entire home/apt</td>\n",
              "      <td>89</td>\n",
              "      <td>1</td>\n",
              "      <td>270</td>\n",
              "      <td>7/5/2019</td>\n",
              "      <td>4.64</td>\n",
              "      <td>1</td>\n",
              "      <td>194</td>\n",
              "    </tr>\n",
              "    <tr>\n",
              "      <th>4</th>\n",
              "      <td>5022</td>\n",
              "      <td>Entire Apt: Spacious Studio/Loft by central park</td>\n",
              "      <td>7192</td>\n",
              "      <td>Laura</td>\n",
              "      <td>Manhattan</td>\n",
              "      <td>East Harlem</td>\n",
              "      <td>40.79851</td>\n",
              "      <td>-73.94399</td>\n",
              "      <td>Entire home/apt</td>\n",
              "      <td>80</td>\n",
              "      <td>10</td>\n",
              "      <td>9</td>\n",
              "      <td>11/19/2018</td>\n",
              "      <td>0.10</td>\n",
              "      <td>1</td>\n",
              "      <td>0</td>\n",
              "    </tr>\n",
              "  </tbody>\n",
              "</table>\n",
              "</div>\n",
              "    <div class=\"colab-df-buttons\">\n",
              "\n",
              "  <div class=\"colab-df-container\">\n",
              "    <button class=\"colab-df-convert\" onclick=\"convertToInteractive('df-767f1018-b2bc-41d7-96ef-7c8fec8a135a')\"\n",
              "            title=\"Convert this dataframe to an interactive table.\"\n",
              "            style=\"display:none;\">\n",
              "\n",
              "  <svg xmlns=\"http://www.w3.org/2000/svg\" height=\"24px\" viewBox=\"0 -960 960 960\">\n",
              "    <path d=\"M120-120v-720h720v720H120Zm60-500h600v-160H180v160Zm220 220h160v-160H400v160Zm0 220h160v-160H400v160ZM180-400h160v-160H180v160Zm440 0h160v-160H620v160ZM180-180h160v-160H180v160Zm440 0h160v-160H620v160Z\"/>\n",
              "  </svg>\n",
              "    </button>\n",
              "\n",
              "  <style>\n",
              "    .colab-df-container {\n",
              "      display:flex;\n",
              "      gap: 12px;\n",
              "    }\n",
              "\n",
              "    .colab-df-convert {\n",
              "      background-color: #E8F0FE;\n",
              "      border: none;\n",
              "      border-radius: 50%;\n",
              "      cursor: pointer;\n",
              "      display: none;\n",
              "      fill: #1967D2;\n",
              "      height: 32px;\n",
              "      padding: 0 0 0 0;\n",
              "      width: 32px;\n",
              "    }\n",
              "\n",
              "    .colab-df-convert:hover {\n",
              "      background-color: #E2EBFA;\n",
              "      box-shadow: 0px 1px 2px rgba(60, 64, 67, 0.3), 0px 1px 3px 1px rgba(60, 64, 67, 0.15);\n",
              "      fill: #174EA6;\n",
              "    }\n",
              "\n",
              "    .colab-df-buttons div {\n",
              "      margin-bottom: 4px;\n",
              "    }\n",
              "\n",
              "    [theme=dark] .colab-df-convert {\n",
              "      background-color: #3B4455;\n",
              "      fill: #D2E3FC;\n",
              "    }\n",
              "\n",
              "    [theme=dark] .colab-df-convert:hover {\n",
              "      background-color: #434B5C;\n",
              "      box-shadow: 0px 1px 3px 1px rgba(0, 0, 0, 0.15);\n",
              "      filter: drop-shadow(0px 1px 2px rgba(0, 0, 0, 0.3));\n",
              "      fill: #FFFFFF;\n",
              "    }\n",
              "  </style>\n",
              "\n",
              "    <script>\n",
              "      const buttonEl =\n",
              "        document.querySelector('#df-767f1018-b2bc-41d7-96ef-7c8fec8a135a button.colab-df-convert');\n",
              "      buttonEl.style.display =\n",
              "        google.colab.kernel.accessAllowed ? 'block' : 'none';\n",
              "\n",
              "      async function convertToInteractive(key) {\n",
              "        const element = document.querySelector('#df-767f1018-b2bc-41d7-96ef-7c8fec8a135a');\n",
              "        const dataTable =\n",
              "          await google.colab.kernel.invokeFunction('convertToInteractive',\n",
              "                                                    [key], {});\n",
              "        if (!dataTable) return;\n",
              "\n",
              "        const docLinkHtml = 'Like what you see? Visit the ' +\n",
              "          '<a target=\"_blank\" href=https://colab.research.google.com/notebooks/data_table.ipynb>data table notebook</a>'\n",
              "          + ' to learn more about interactive tables.';\n",
              "        element.innerHTML = '';\n",
              "        dataTable['output_type'] = 'display_data';\n",
              "        await google.colab.output.renderOutput(dataTable, element);\n",
              "        const docLink = document.createElement('div');\n",
              "        docLink.innerHTML = docLinkHtml;\n",
              "        element.appendChild(docLink);\n",
              "      }\n",
              "    </script>\n",
              "  </div>\n",
              "\n",
              "\n",
              "<div id=\"df-b783959e-056e-497b-8aba-73daa482c170\">\n",
              "  <button class=\"colab-df-quickchart\" onclick=\"quickchart('df-b783959e-056e-497b-8aba-73daa482c170')\"\n",
              "            title=\"Suggest charts\"\n",
              "            style=\"display:none;\">\n",
              "\n",
              "<svg xmlns=\"http://www.w3.org/2000/svg\" height=\"24px\"viewBox=\"0 0 24 24\"\n",
              "     width=\"24px\">\n",
              "    <g>\n",
              "        <path d=\"M19 3H5c-1.1 0-2 .9-2 2v14c0 1.1.9 2 2 2h14c1.1 0 2-.9 2-2V5c0-1.1-.9-2-2-2zM9 17H7v-7h2v7zm4 0h-2V7h2v10zm4 0h-2v-4h2v4z\"/>\n",
              "    </g>\n",
              "</svg>\n",
              "  </button>\n",
              "\n",
              "<style>\n",
              "  .colab-df-quickchart {\n",
              "      --bg-color: #E8F0FE;\n",
              "      --fill-color: #1967D2;\n",
              "      --hover-bg-color: #E2EBFA;\n",
              "      --hover-fill-color: #174EA6;\n",
              "      --disabled-fill-color: #AAA;\n",
              "      --disabled-bg-color: #DDD;\n",
              "  }\n",
              "\n",
              "  [theme=dark] .colab-df-quickchart {\n",
              "      --bg-color: #3B4455;\n",
              "      --fill-color: #D2E3FC;\n",
              "      --hover-bg-color: #434B5C;\n",
              "      --hover-fill-color: #FFFFFF;\n",
              "      --disabled-bg-color: #3B4455;\n",
              "      --disabled-fill-color: #666;\n",
              "  }\n",
              "\n",
              "  .colab-df-quickchart {\n",
              "    background-color: var(--bg-color);\n",
              "    border: none;\n",
              "    border-radius: 50%;\n",
              "    cursor: pointer;\n",
              "    display: none;\n",
              "    fill: var(--fill-color);\n",
              "    height: 32px;\n",
              "    padding: 0;\n",
              "    width: 32px;\n",
              "  }\n",
              "\n",
              "  .colab-df-quickchart:hover {\n",
              "    background-color: var(--hover-bg-color);\n",
              "    box-shadow: 0 1px 2px rgba(60, 64, 67, 0.3), 0 1px 3px 1px rgba(60, 64, 67, 0.15);\n",
              "    fill: var(--button-hover-fill-color);\n",
              "  }\n",
              "\n",
              "  .colab-df-quickchart-complete:disabled,\n",
              "  .colab-df-quickchart-complete:disabled:hover {\n",
              "    background-color: var(--disabled-bg-color);\n",
              "    fill: var(--disabled-fill-color);\n",
              "    box-shadow: none;\n",
              "  }\n",
              "\n",
              "  .colab-df-spinner {\n",
              "    border: 2px solid var(--fill-color);\n",
              "    border-color: transparent;\n",
              "    border-bottom-color: var(--fill-color);\n",
              "    animation:\n",
              "      spin 1s steps(1) infinite;\n",
              "  }\n",
              "\n",
              "  @keyframes spin {\n",
              "    0% {\n",
              "      border-color: transparent;\n",
              "      border-bottom-color: var(--fill-color);\n",
              "      border-left-color: var(--fill-color);\n",
              "    }\n",
              "    20% {\n",
              "      border-color: transparent;\n",
              "      border-left-color: var(--fill-color);\n",
              "      border-top-color: var(--fill-color);\n",
              "    }\n",
              "    30% {\n",
              "      border-color: transparent;\n",
              "      border-left-color: var(--fill-color);\n",
              "      border-top-color: var(--fill-color);\n",
              "      border-right-color: var(--fill-color);\n",
              "    }\n",
              "    40% {\n",
              "      border-color: transparent;\n",
              "      border-right-color: var(--fill-color);\n",
              "      border-top-color: var(--fill-color);\n",
              "    }\n",
              "    60% {\n",
              "      border-color: transparent;\n",
              "      border-right-color: var(--fill-color);\n",
              "    }\n",
              "    80% {\n",
              "      border-color: transparent;\n",
              "      border-right-color: var(--fill-color);\n",
              "      border-bottom-color: var(--fill-color);\n",
              "    }\n",
              "    90% {\n",
              "      border-color: transparent;\n",
              "      border-bottom-color: var(--fill-color);\n",
              "    }\n",
              "  }\n",
              "</style>\n",
              "\n",
              "  <script>\n",
              "    async function quickchart(key) {\n",
              "      const quickchartButtonEl =\n",
              "        document.querySelector('#' + key + ' button');\n",
              "      quickchartButtonEl.disabled = true;  // To prevent multiple clicks.\n",
              "      quickchartButtonEl.classList.add('colab-df-spinner');\n",
              "      try {\n",
              "        const charts = await google.colab.kernel.invokeFunction(\n",
              "            'suggestCharts', [key], {});\n",
              "      } catch (error) {\n",
              "        console.error('Error during call to suggestCharts:', error);\n",
              "      }\n",
              "      quickchartButtonEl.classList.remove('colab-df-spinner');\n",
              "      quickchartButtonEl.classList.add('colab-df-quickchart-complete');\n",
              "    }\n",
              "    (() => {\n",
              "      let quickchartButtonEl =\n",
              "        document.querySelector('#df-b783959e-056e-497b-8aba-73daa482c170 button');\n",
              "      quickchartButtonEl.style.display =\n",
              "        google.colab.kernel.accessAllowed ? 'block' : 'none';\n",
              "    })();\n",
              "  </script>\n",
              "</div>\n",
              "\n",
              "    </div>\n",
              "  </div>\n"
            ],
            "text/plain": [
              "     id                                              name  host_id  \\\n",
              "0  2539                Clean & quiet apt home by the park     2787   \n",
              "1  2595                             Skylit Midtown Castle     2845   \n",
              "2  3647               THE VILLAGE OF HARLEM....NEW YORK !     4632   \n",
              "3  3831                   Cozy Entire Floor of Brownstone     4869   \n",
              "4  5022  Entire Apt: Spacious Studio/Loft by central park     7192   \n",
              "\n",
              "     host_name neighbourhood_group neighbourhood  latitude  longitude  \\\n",
              "0         John            Brooklyn    Kensington  40.64749  -73.97237   \n",
              "1     Jennifer           Manhattan       Midtown  40.75362  -73.98377   \n",
              "2    Elisabeth           Manhattan        Harlem  40.80902  -73.94190   \n",
              "3  LisaRoxanne            Brooklyn  Clinton Hill  40.68514  -73.95976   \n",
              "4        Laura           Manhattan   East Harlem  40.79851  -73.94399   \n",
              "\n",
              "         room_type  price  minimum_nights  number_of_reviews last_review  \\\n",
              "0     Private room    149               1                  9  10/19/2018   \n",
              "1  Entire home/apt    225               1                 45   5/21/2019   \n",
              "2     Private room    150               3                  0         NaN   \n",
              "3  Entire home/apt     89               1                270    7/5/2019   \n",
              "4  Entire home/apt     80              10                  9  11/19/2018   \n",
              "\n",
              "   reviews_per_month  calculated_host_listings_count  availability_365  \n",
              "0               0.21                               6               365  \n",
              "1               0.38                               2               355  \n",
              "2                NaN                               1               365  \n",
              "3               4.64                               1               194  \n",
              "4               0.10                               1                 0  "
            ]
          },
          "execution_count": 56,
          "metadata": {},
          "output_type": "execute_result"
        }
      ],
      "source": [
        "df = pd.read_csv('AB_NYC_2019.csv', encoding='latin-1')\n",
        "df.head()"
      ]
    },
    {
      "cell_type": "code",
      "execution_count": 57,
      "metadata": {
        "colab": {
          "base_uri": "https://localhost:8080/"
        },
        "id": "3Ukl8JeNZo9b",
        "outputId": "93268895-c691-4a59-acb4-878c8d9cbcd5"
      },
      "outputs": [
        {
          "data": {
            "text/plain": [
              "(48895, 16)"
            ]
          },
          "execution_count": 57,
          "metadata": {},
          "output_type": "execute_result"
        }
      ],
      "source": [
        "df.shape"
      ]
    },
    {
      "cell_type": "code",
      "execution_count": 58,
      "metadata": {
        "colab": {
          "base_uri": "https://localhost:8080/"
        },
        "id": "YxR9tMhAZ_Gi",
        "outputId": "9d97845d-ef70-4898-bed6-fa060412b415"
      },
      "outputs": [
        {
          "data": {
            "text/plain": [
              "id                                False\n",
              "name                               True\n",
              "host_id                           False\n",
              "host_name                          True\n",
              "neighbourhood_group               False\n",
              "neighbourhood                     False\n",
              "latitude                          False\n",
              "longitude                         False\n",
              "room_type                         False\n",
              "price                             False\n",
              "minimum_nights                    False\n",
              "number_of_reviews                 False\n",
              "last_review                        True\n",
              "reviews_per_month                  True\n",
              "calculated_host_listings_count    False\n",
              "availability_365                  False\n",
              "dtype: bool"
            ]
          },
          "execution_count": 58,
          "metadata": {},
          "output_type": "execute_result"
        }
      ],
      "source": [
        "df.isnull().any()"
      ]
    },
    {
      "cell_type": "code",
      "execution_count": 59,
      "metadata": {
        "colab": {
          "base_uri": "https://localhost:8080/"
        },
        "id": "sxWpCrGrPlWf",
        "outputId": "e45d8bf4-3724-4b0e-9da9-b746f8ebe47f"
      },
      "outputs": [
        {
          "name": "stdout",
          "output_type": "stream",
          "text": [
            "<class 'pandas.core.frame.DataFrame'>\n",
            "RangeIndex: 48895 entries, 0 to 48894\n",
            "Data columns (total 16 columns):\n",
            " #   Column                          Non-Null Count  Dtype  \n",
            "---  ------                          --------------  -----  \n",
            " 0   id                              48895 non-null  int64  \n",
            " 1   name                            48879 non-null  object \n",
            " 2   host_id                         48895 non-null  int64  \n",
            " 3   host_name                       48874 non-null  object \n",
            " 4   neighbourhood_group             48895 non-null  object \n",
            " 5   neighbourhood                   48895 non-null  object \n",
            " 6   latitude                        48895 non-null  float64\n",
            " 7   longitude                       48895 non-null  float64\n",
            " 8   room_type                       48895 non-null  object \n",
            " 9   price                           48895 non-null  int64  \n",
            " 10  minimum_nights                  48895 non-null  int64  \n",
            " 11  number_of_reviews               48895 non-null  int64  \n",
            " 12  last_review                     38843 non-null  object \n",
            " 13  reviews_per_month               38843 non-null  float64\n",
            " 14  calculated_host_listings_count  48895 non-null  int64  \n",
            " 15  availability_365                48895 non-null  int64  \n",
            "dtypes: float64(3), int64(7), object(6)\n",
            "memory usage: 6.0+ MB\n"
          ]
        }
      ],
      "source": [
        "df.info()"
      ]
    },
    {
      "cell_type": "code",
      "execution_count": 60,
      "metadata": {
        "id": "CdlnoTii8bbz"
      },
      "outputs": [],
      "source": [
        "# uneditted dataframe\n",
        "base_df = df"
      ]
    },
    {
      "cell_type": "markdown",
      "metadata": {
        "id": "wUVM7iCrkp-A"
      },
      "source": [
        "# Feature Selection"
      ]
    },
    {
      "cell_type": "code",
      "execution_count": 61,
      "metadata": {
        "colab": {
          "base_uri": "https://localhost:8080/"
        },
        "id": "kqpBwYmTRe_h",
        "outputId": "f6d61701-c4b1-4d1a-b2dc-ec940a481a45"
      },
      "outputs": [
        {
          "name": "stdout",
          "output_type": "stream",
          "text": [
            "<class 'pandas.core.frame.DataFrame'>\n",
            "RangeIndex: 48895 entries, 0 to 48894\n",
            "Data columns (total 16 columns):\n",
            " #   Column                          Non-Null Count  Dtype  \n",
            "---  ------                          --------------  -----  \n",
            " 0   id                              48895 non-null  int64  \n",
            " 1   name                            48879 non-null  object \n",
            " 2   host_id                         48895 non-null  int64  \n",
            " 3   host_name                       48874 non-null  object \n",
            " 4   neighbourhood_group             48895 non-null  object \n",
            " 5   neighbourhood                   48895 non-null  object \n",
            " 6   latitude                        48895 non-null  float64\n",
            " 7   longitude                       48895 non-null  float64\n",
            " 8   room_type                       48895 non-null  object \n",
            " 9   price                           48895 non-null  int64  \n",
            " 10  minimum_nights                  48895 non-null  int64  \n",
            " 11  number_of_reviews               48895 non-null  int64  \n",
            " 12  last_review                     38843 non-null  object \n",
            " 13  reviews_per_month               38843 non-null  float64\n",
            " 14  calculated_host_listings_count  48895 non-null  int64  \n",
            " 15  availability_365                48895 non-null  int64  \n",
            "dtypes: float64(3), int64(7), object(6)\n",
            "memory usage: 6.0+ MB\n"
          ]
        }
      ],
      "source": [
        "df.info()"
      ]
    },
    {
      "cell_type": "markdown",
      "metadata": {
        "id": "Tl-C6dmkDOxx"
      },
      "source": [
        "## Tests for dropping \"latitude\" & \"longitude\""
      ]
    },
    {
      "cell_type": "markdown",
      "metadata": {
        "id": "0IGo29q5Df39"
      },
      "source": [
        "### Boxplot neighbourhood_group vs latitude"
      ]
    },
    {
      "cell_type": "code",
      "execution_count": 62,
      "metadata": {
        "colab": {
          "base_uri": "https://localhost:8080/",
          "height": 0
        },
        "id": "7TODS_a-X0cE",
        "outputId": "ee2223e9-5de6-4aa9-c12d-7608b63b2411"
      },
      "outputs": [
        {
          "data": {
            "text/plain": [
              "<Axes: title={'center': 'latitude'}, xlabel='neighbourhood_group'>"
            ]
          },
          "execution_count": 62,
          "metadata": {},
          "output_type": "execute_result"
        },
        {
          "data": {
            "image/png": "[encoded data removed]",
            "text/plain": [
              "<Figure size 640x480 with 1 Axes>"
            ]
          },
          "metadata": {},
          "output_type": "display_data"
        }
      ],
      "source": [
        "df.boxplot('latitude',by='neighbourhood_group')"
      ]
    },
    {
      "cell_type": "markdown",
      "metadata": {
        "id": "c3F7qBpQDpyg"
      },
      "source": [
        "### 3D Plot **neighbourhood_group vs latitude vs longitude**"
      ]
    },
    {
      "cell_type": "code",
      "execution_count": 63,
      "metadata": {
        "id": "_vhN5PRDcUwt"
      },
      "outputs": [],
      "source": [
        "X=[]\n",
        "Y=[]\n",
        "T=[]\n",
        "for i in df['latitude']:\n",
        "  X.append(i);\n",
        "\n",
        "for i in df['longitude']:\n",
        "  Y.append(i);\n",
        "\n",
        "for i in df['neighbourhood_group']:\n",
        "  if(i=='Brooklyn'):\n",
        "    T.append(0)\n",
        "  elif(i=='Bronx'):\n",
        "    T.append(1)\n",
        "  elif(i=='Manhattan'):\n",
        "    T.append(2)\n",
        "  elif(i=='Queens'):\n",
        "    T.append(3)\n",
        "  else:\n",
        "    T.append(4)"
      ]
    },
    {
      "cell_type": "code",
      "execution_count": 65,
      "metadata": {
        "colab": {
          "base_uri": "https://localhost:8080/",
          "height": 0
        },
        "id": "MtjRyV6VbH74",
        "outputId": "14fabcb8-197f-4206-f782-813582531a3d"
      },
      "outputs": [
        {
          "data": {
            "image/png": "[encoded data removed]",
            "text/plain": [
              "<Figure size 800x800 with 1 Axes>"
            ]
          },
          "metadata": {},
          "output_type": "display_data"
        }
      ],
      "source": [
        "fig = plt.figure(figsize = (8,8))\n",
        "ax = plt.axes(projection='3d')\n",
        "ax.grid()\n",
        "\n",
        "t = np.array(T) #neighbourhood_group\n",
        "x = np.array(X) #latitude\n",
        "y = np.array(Y) #longitude\n",
        "\n",
        "#so both latitude and longitude together defines a neighbour_hood group\n",
        "#unlike one only\n",
        "\n",
        "ax.scatter(x,y,t, c='b', marker='o')\n",
        "\n",
        "ax.set_xlabel('X Label')\n",
        "ax.set_ylabel('Y Label')\n",
        "ax.set_zlabel('Z Label')\n",
        "\n",
        "plt.show()"
      ]
    },
    {
      "cell_type": "markdown",
      "metadata": {
        "id": "DmTg3PUCEmbr"
      },
      "source": [
        "## Tests for dropping \"neighbourhood\""
      ]
    },
    {
      "cell_type": "markdown",
      "metadata": {
        "id": "UqaIEgiZD2RX"
      },
      "source": [
        "### scatter-plot **Neighbourhood_group vs Price**"
      ]
    },
    {
      "cell_type": "code",
      "execution_count": 66,
      "metadata": {
        "colab": {
          "base_uri": "https://localhost:8080/",
          "height": 0
        },
        "id": "Z0oX6T0Mbeku",
        "outputId": "2bffb912-4201-499a-f578-0823c852e865"
      },
      "outputs": [
        {
          "data": {
            "image/png": "[encoded data removed]",
            "text/plain": [
              "<Figure size 800x800 with 1 Axes>"
            ]
          },
          "metadata": {},
          "output_type": "display_data"
        }
      ],
      "source": [
        "fig = plt.figure(figsize = (8,8))\n",
        "ax = plt.axes()\n",
        "ax.grid()\n",
        "\n",
        "t = np.array(T) #neighbourhood_group\n",
        "s = df['price']\n",
        "\n",
        "#so both latitude and longitude together defines a neighbour_hood group\n",
        "#unlike one only\n",
        "\n",
        "ax.scatter(s,t, c='b', marker='o')\n",
        "\n",
        "ax.set_xlabel('X Label')\n",
        "ax.set_ylabel('Y Label')\n",
        "\n",
        "plt.show()"
      ]
    },
    {
      "cell_type": "markdown",
      "metadata": {
        "id": "TqebXNCtEK2_"
      },
      "source": [
        "### box-plot **Neighbourhood_group vs Price**"
      ]
    },
    {
      "cell_type": "code",
      "execution_count": 67,
      "metadata": {
        "colab": {
          "base_uri": "https://localhost:8080/",
          "height": 0
        },
        "id": "RaJqWBooeB75",
        "outputId": "544f9f13-b774-4784-a305-74ad0d8c700e"
      },
      "outputs": [
        {
          "data": {
            "image/png": "[encoded data removed]",
            "text/plain": [
              "<Figure size 800x600 with 1 Axes>"
            ]
          },
          "metadata": {},
          "output_type": "display_data"
        }
      ],
      "source": [
        "import pandas as pd\n",
        "import matplotlib.pyplot as plt\n",
        "import seaborn as sns\n",
        "\n",
        "# Assuming 'df' is your DataFrame\n",
        "# Randomly select 10 neighbourhoods\n",
        "random_neighbourhoods = df['neighbourhood'].sample(n=5, random_state=22)\n",
        "\n",
        "# Filter the DataFrame for the selected neighbourhoods\n",
        "subset_df = df[df['neighbourhood'].isin(random_neighbourhoods)]\n",
        "\n",
        "# Set the order of neighbourhoods for the categorical x-axis\n",
        "neighbourhood_order = subset_df['neighbourhood'].unique()\n",
        "\n",
        "# Plot prices for each neighbourhood\n",
        "plt.figure(figsize=(8, 6))\n",
        "sns.boxplot(x='neighbourhood', y='price', data=subset_df, order=neighbourhood_order)\n",
        "plt.title('Prices of Each Neighbourhood (Random Selection of 5)')\n",
        "plt.xlabel('Neighbourhood')\n",
        "plt.ylabel('Price')\n",
        "plt.xticks(rotation=20, ha='right')  # Rotate x-axis labels for better visibility\n",
        "plt.show()"
      ]
    },
    {
      "cell_type": "markdown",
      "metadata": {
        "id": "SK8fy7NCKPhC"
      },
      "source": [
        "## Test for number_of_reviews"
      ]
    },
    {
      "cell_type": "code",
      "execution_count": 68,
      "metadata": {
        "colab": {
          "base_uri": "https://localhost:8080/",
          "height": 0
        },
        "id": "lgCttpw7KSKH",
        "outputId": "334325ae-2a0c-4155-f0c7-373dc23ba0f1"
      },
      "outputs": [
        {
          "data": {
            "text/plain": [
              "<Axes: xlabel='number_of_reviews', ylabel='price'>"
            ]
          },
          "execution_count": 68,
          "metadata": {},
          "output_type": "execute_result"
        },
        {
          "data": {
            "image/png": "[encoded data removed]",
            "text/plain": [
              "<Figure size 640x480 with 1 Axes>"
            ]
          },
          "metadata": {},
          "output_type": "display_data"
        }
      ],
      "source": [
        "sns.lineplot(x=df.number_of_reviews,y=df.price)"
      ]
    },
    {
      "cell_type": "code",
      "execution_count": 69,
      "metadata": {
        "colab": {
          "base_uri": "https://localhost:8080/"
        },
        "id": "x9MuIFCFNqWZ",
        "outputId": "2ac9d2c0-5ca4-4e82-c202-c1d3135a5ba2"
      },
      "outputs": [
        {
          "name": "stdout",
          "output_type": "stream",
          "text": [
            "Correlation between 'reviews_per_month' and 'price': -0.047954226582662185\n"
          ]
        }
      ],
      "source": [
        "correlation = df['number_of_reviews'].corr(df['price'])\n",
        "print(f\"Correlation between 'reviews_per_month' and 'price': {correlation}\")"
      ]
    },
    {
      "cell_type": "markdown",
      "metadata": {
        "id": "_T-q51P6OSVy"
      },
      "source": [
        "## Test for availability"
      ]
    },
    {
      "cell_type": "code",
      "execution_count": 70,
      "metadata": {
        "colab": {
          "base_uri": "https://localhost:8080/"
        },
        "id": "mSlyEzC_ORWh",
        "outputId": "48cf8c4d-a48a-4b0a-81b7-87a715975e42"
      },
      "outputs": [
        {
          "name": "stdout",
          "output_type": "stream",
          "text": [
            "Correlation between 'availability_365' and 'price': 0.08182882742168796\n"
          ]
        }
      ],
      "source": [
        "correlation = df['availability_365'].corr(df['price'])\n",
        "print(f\"Correlation between 'availability_365' and 'price': {correlation}\")"
      ]
    },
    {
      "cell_type": "markdown",
      "metadata": {
        "id": "MXeGP5EwDbe_"
      },
      "source": [
        "# Pre-processing"
      ]
    },
    {
      "cell_type": "code",
      "execution_count": 71,
      "metadata": {
        "colab": {
          "base_uri": "https://localhost:8080/",
          "height": 87
        },
        "id": "dcvfO-P8EYKR",
        "outputId": "4bfd3442-da0f-4550-f9c9-fc06c0d04947"
      },
      "outputs": [
        {
          "data": {
            "application/vnd.google.colaboratory.intrinsic+json": {
              "type": "string"
            },
            "text/plain": [
              "'\\n\\nThings to drop:\\n\\nid - all are unique,\\nname - same names of similar houses ,\\nhost_name - same names of different hosts ,\\nhost_id - similar as above ,\\nlatitute - can be inferred from neighbourhood_group ,\\nlongitude - can be inferred from neighbourhood_group ,\\nlast_review - lots of missing values ,\\nreviews_per_month - very low correlation with price ,\\ncalculated_host_listings_count - 37k / 48k are unique hosts ,\\nnumber_of_reviews - low correlation ,\\navailability_365 - low correlation ,\\n\\nThings MAYBE to drop:\\n\\nneighbourhood - neighbourhood_group gives us the required information\\n\\n'"
            ]
          },
          "execution_count": 71,
          "metadata": {},
          "output_type": "execute_result"
        }
      ],
      "source": [
        "\"\"\"\n",
        "\n",
        "Things to drop:\n",
        "\n",
        "id - all are unique,\n",
        "name - same names of similar houses ,\n",
        "host_name - same names of different hosts ,\n",
        "host_id - similar as above ,\n",
        "latitute - can be inferred from neighbourhood_group ,\n",
        "longitude - can be inferred from neighbourhood_group ,\n",
        "last_review - lots of missing values ,\n",
        "reviews_per_month - very low correlation with price ,\n",
        "calculated_host_listings_count - 37k / 48k are unique hosts ,\n",
        "number_of_reviews - low correlation ,\n",
        "availability_365 - low correlation ,\n",
        "\n",
        "Things MAYBE to drop:\n",
        "\n",
        "neighbourhood - neighbourhood_group gives us the required information\n",
        "\n",
        "\"\"\""
      ]
    },
    {
      "cell_type": "markdown",
      "metadata": {
        "id": "zJ5QRQCBF1fX"
      },
      "source": [
        "### Dropping Columns"
      ]
    },
    {
      "cell_type": "code",
      "execution_count": 72,
      "metadata": {
        "id": "1M2coDLmESq-"
      },
      "outputs": [],
      "source": [
        "# list of columns to be dropped\n",
        "columns_to_drop = ['id', 'name','host_id','host_name', 'neighbourhood', 'last_review','reviews_per_month','calculated_host_listings_count']\n",
        "\n",
        "# drop the columns\n",
        "df = base_df.drop(columns=columns_to_drop)"
      ]
    },
    {
      "cell_type": "markdown",
      "metadata": {
        "id": "0akiQt_KF3fV"
      },
      "source": [
        "### Outlier Removal"
      ]
    },
    {
      "cell_type": "markdown",
      "metadata": {
        "id": "aVm_FXWdImNu"
      },
      "source": [
        "#### validating the IQR approach"
      ]
    },
    {
      "cell_type": "code",
      "execution_count": 73,
      "metadata": {
        "colab": {
          "base_uri": "https://localhost:8080/"
        },
        "id": "GXitf66-mDzh",
        "outputId": "b496b90c-ec2c-4b80-aa1f-f8cd93c6e1d5"
      },
      "outputs": [
        {
          "name": "stdout",
          "output_type": "stream",
          "text": [
            "neighbourhood_group    0\n",
            "latitude               0\n",
            "longitude              0\n",
            "room_type              0\n",
            "price                  0\n",
            "minimum_nights         0\n",
            "number_of_reviews      0\n",
            "availability_365       0\n",
            "dtype: int64\n"
          ]
        }
      ],
      "source": [
        "# checking if any NA values exist in any columns\n",
        "print(df.isna().sum())"
      ]
    },
    {
      "cell_type": "code",
      "execution_count": 74,
      "metadata": {
        "colab": {
          "base_uri": "https://localhost:8080/"
        },
        "id": "rUnNfg8bgjTF",
        "outputId": "73fa4d5e-eb5e-4f05-88c1-865e130ac6a1"
      },
      "outputs": [
        {
          "name": "stdout",
          "output_type": "stream",
          "text": [
            "  neighbourhood_group         IQR\n",
            "0               Bronx   99.0 45.0\n",
            "1            Brooklyn  150.0 60.0\n",
            "2           Manhattan  220.0 95.0\n",
            "3              Queens  110.0 50.0\n",
            "4       Staten Island  110.0 50.0\n"
          ]
        }
      ],
      "source": [
        "# Calculate IQR for each category\n",
        "result = df.groupby('neighbourhood_group')['price'].apply(lambda x: str(x.quantile(0.75)) +\" \" + str(x.quantile(0.25))).reset_index(name='IQR')\n",
        "print(result)"
      ]
    },
    {
      "cell_type": "code",
      "execution_count": 75,
      "metadata": {
        "colab": {
          "base_uri": "https://localhost:8080/"
        },
        "id": "kG_skkLfIHjT",
        "outputId": "fee415c7-5788-44a1-fa87-63a131687a5b"
      },
      "outputs": [
        {
          "name": "stdout",
          "output_type": "stream",
          "text": [
            "Number of records with Brooklyn:  20104\n",
            "Number of records with Brooklyn inside it's IQR:  11203\n"
          ]
        }
      ],
      "source": [
        "# count of records for Brooklyn\n",
        "print(\"Number of records with Brooklyn: \", len(df[df.neighbourhood_group=='Brooklyn']))\n",
        "\n",
        "# count of records for Brooklyn inside it's IQR = [60 , 151]\n",
        "filtered_df = df[(df['neighbourhood_group'] == 'Brooklyn') & (df['price'].between(60, 151))]\n",
        "print(\"Number of records with Brooklyn inside it's IQR: \", len(filtered_df))"
      ]
    },
    {
      "cell_type": "markdown",
      "metadata": {
        "id": "9l5TsBDUIw3v"
      },
      "source": [
        "#### Outlier removal using IQR"
      ]
    },
    {
      "cell_type": "code",
      "execution_count": 76,
      "metadata": {
        "id": "iHMdIWh6rcyS"
      },
      "outputs": [],
      "source": [
        "# calculate 1st and 3rd Quartile\n",
        "result = df.groupby('neighbourhood_group')['price'].apply(lambda x: [x.quantile(0.75),x.quantile(0.25)]).reset_index(name='IQR')"
      ]
    },
    {
      "cell_type": "code",
      "execution_count": 77,
      "metadata": {
        "id": "l5U7boreoz3N"
      },
      "outputs": [],
      "source": [
        "editted_df = pd.DataFrame(columns=df.columns)\n",
        "\n",
        "for col in df['neighbourhood_group'].unique():\n",
        "\n",
        "  IQR = result[result.neighbourhood_group==col].IQR # IQR for the current neighbourhood_group\n",
        "  IQR = IQR.tolist()[0] # converting the series to list\n",
        "  IQR_range=IQR[0]-IQR[1] # calculating the IQR range\n",
        "\n",
        "  # UpperLimit and LowerLimit based on IQR\n",
        "  filtered_df = df[(df['neighbourhood_group'] == col) & (df['price'].between(IQR[1]-1.5*IQR_range, IQR[0]+1.5*IQR_range))]\n",
        "\n",
        "  # append the data about this particular neighbourhood_group to the complete dataframe\n",
        "  editted_df = pd.concat([editted_df, filtered_df],ignore_index=True)"
      ]
    },
    {
      "cell_type": "code",
      "execution_count": 78,
      "metadata": {
        "colab": {
          "base_uri": "https://localhost:8080/",
          "height": 0
        },
        "id": "koJy18MosnGj",
        "outputId": "df5e675e-df37-4d3b-faf3-54b5e86f3027"
      },
      "outputs": [
        {
          "data": {
            "text/html": [
              "\n",
              "  <div id=\"df-98758797-e41d-47ce-b1d4-d8dfa1794784\" class=\"colab-df-container\">\n",
              "    <div>\n",
              "<style scoped>\n",
              "    .dataframe tbody tr th:only-of-type {\n",
              "        vertical-align: middle;\n",
              "    }\n",
              "\n",
              "    .dataframe tbody tr th {\n",
              "        vertical-align: top;\n",
              "    }\n",
              "\n",
              "    .dataframe thead th {\n",
              "        text-align: right;\n",
              "    }\n",
              "</style>\n",
              "<table border=\"1\" class=\"dataframe\">\n",
              "  <thead>\n",
              "    <tr style=\"text-align: right;\">\n",
              "      <th></th>\n",
              "      <th>neighbourhood_group</th>\n",
              "      <th>latitude</th>\n",
              "      <th>longitude</th>\n",
              "      <th>room_type</th>\n",
              "      <th>price</th>\n",
              "      <th>minimum_nights</th>\n",
              "      <th>number_of_reviews</th>\n",
              "      <th>availability_365</th>\n",
              "    </tr>\n",
              "  </thead>\n",
              "  <tbody>\n",
              "    <tr>\n",
              "      <th>0</th>\n",
              "      <td>Brooklyn</td>\n",
              "      <td>40.64749</td>\n",
              "      <td>-73.97237</td>\n",
              "      <td>Private room</td>\n",
              "      <td>149</td>\n",
              "      <td>1</td>\n",
              "      <td>9</td>\n",
              "      <td>365</td>\n",
              "    </tr>\n",
              "    <tr>\n",
              "      <th>1</th>\n",
              "      <td>Brooklyn</td>\n",
              "      <td>40.68514</td>\n",
              "      <td>-73.95976</td>\n",
              "      <td>Entire home/apt</td>\n",
              "      <td>89</td>\n",
              "      <td>1</td>\n",
              "      <td>270</td>\n",
              "      <td>194</td>\n",
              "    </tr>\n",
              "    <tr>\n",
              "      <th>2</th>\n",
              "      <td>Brooklyn</td>\n",
              "      <td>40.68688</td>\n",
              "      <td>-73.95596</td>\n",
              "      <td>Private room</td>\n",
              "      <td>60</td>\n",
              "      <td>45</td>\n",
              "      <td>49</td>\n",
              "      <td>0</td>\n",
              "    </tr>\n",
              "    <tr>\n",
              "      <th>3</th>\n",
              "      <td>Brooklyn</td>\n",
              "      <td>40.66829</td>\n",
              "      <td>-73.98779</td>\n",
              "      <td>Private room</td>\n",
              "      <td>89</td>\n",
              "      <td>4</td>\n",
              "      <td>167</td>\n",
              "      <td>314</td>\n",
              "    </tr>\n",
              "    <tr>\n",
              "      <th>4</th>\n",
              "      <td>Brooklyn</td>\n",
              "      <td>40.70837</td>\n",
              "      <td>-73.95352</td>\n",
              "      <td>Entire home/apt</td>\n",
              "      <td>140</td>\n",
              "      <td>2</td>\n",
              "      <td>148</td>\n",
              "      <td>46</td>\n",
              "    </tr>\n",
              "  </tbody>\n",
              "</table>\n",
              "</div>\n",
              "    <div class=\"colab-df-buttons\">\n",
              "\n",
              "  <div class=\"colab-df-container\">\n",
              "    <button class=\"colab-df-convert\" onclick=\"convertToInteractive('df-98758797-e41d-47ce-b1d4-d8dfa1794784')\"\n",
              "            title=\"Convert this dataframe to an interactive table.\"\n",
              "            style=\"display:none;\">\n",
              "\n",
              "  <svg xmlns=\"http://www.w3.org/2000/svg\" height=\"24px\" viewBox=\"0 -960 960 960\">\n",
              "    <path d=\"M120-120v-720h720v720H120Zm60-500h600v-160H180v160Zm220 220h160v-160H400v160Zm0 220h160v-160H400v160ZM180-400h160v-160H180v160Zm440 0h160v-160H620v160ZM180-180h160v-160H180v160Zm440 0h160v-160H620v160Z\"/>\n",
              "  </svg>\n",
              "    </button>\n",
              "\n",
              "  <style>\n",
              "    .colab-df-container {\n",
              "      display:flex;\n",
              "      gap: 12px;\n",
              "    }\n",
              "\n",
              "    .colab-df-convert {\n",
              "      background-color: #E8F0FE;\n",
              "      border: none;\n",
              "      border-radius: 50%;\n",
              "      cursor: pointer;\n",
              "      display: none;\n",
              "      fill: #1967D2;\n",
              "      height: 32px;\n",
              "      padding: 0 0 0 0;\n",
              "      width: 32px;\n",
              "    }\n",
              "\n",
              "    .colab-df-convert:hover {\n",
              "      background-color: #E2EBFA;\n",
              "      box-shadow: 0px 1px 2px rgba(60, 64, 67, 0.3), 0px 1px 3px 1px rgba(60, 64, 67, 0.15);\n",
              "      fill: #174EA6;\n",
              "    }\n",
              "\n",
              "    .colab-df-buttons div {\n",
              "      margin-bottom: 4px;\n",
              "    }\n",
              "\n",
              "    [theme=dark] .colab-df-convert {\n",
              "      background-color: #3B4455;\n",
              "      fill: #D2E3FC;\n",
              "    }\n",
              "\n",
              "    [theme=dark] .colab-df-convert:hover {\n",
              "      background-color: #434B5C;\n",
              "      box-shadow: 0px 1px 3px 1px rgba(0, 0, 0, 0.15);\n",
              "      filter: drop-shadow(0px 1px 2px rgba(0, 0, 0, 0.3));\n",
              "      fill: #FFFFFF;\n",
              "    }\n",
              "  </style>\n",
              "\n",
              "    <script>\n",
              "      const buttonEl =\n",
              "        document.querySelector('#df-98758797-e41d-47ce-b1d4-d8dfa1794784 button.colab-df-convert');\n",
              "      buttonEl.style.display =\n",
              "        google.colab.kernel.accessAllowed ? 'block' : 'none';\n",
              "\n",
              "      async function convertToInteractive(key) {\n",
              "        const element = document.querySelector('#df-98758797-e41d-47ce-b1d4-d8dfa1794784');\n",
              "        const dataTable =\n",
              "          await google.colab.kernel.invokeFunction('convertToInteractive',\n",
              "                                                    [key], {});\n",
              "        if (!dataTable) return;\n",
              "\n",
              "        const docLinkHtml = 'Like what you see? Visit the ' +\n",
              "          '<a target=\"_blank\" href=https://colab.research.google.com/notebooks/data_table.ipynb>data table notebook</a>'\n",
              "          + ' to learn more about interactive tables.';\n",
              "        element.innerHTML = '';\n",
              "        dataTable['output_type'] = 'display_data';\n",
              "        await google.colab.output.renderOutput(dataTable, element);\n",
              "        const docLink = document.createElement('div');\n",
              "        docLink.innerHTML = docLinkHtml;\n",
              "        element.appendChild(docLink);\n",
              "      }\n",
              "    </script>\n",
              "  </div>\n",
              "\n",
              "\n",
              "<div id=\"df-c006a4b0-d66e-4a7c-8a0f-c50369660464\">\n",
              "  <button class=\"colab-df-quickchart\" onclick=\"quickchart('df-c006a4b0-d66e-4a7c-8a0f-c50369660464')\"\n",
              "            title=\"Suggest charts\"\n",
              "            style=\"display:none;\">\n",
              "\n",
              "<svg xmlns=\"http://www.w3.org/2000/svg\" height=\"24px\"viewBox=\"0 0 24 24\"\n",
              "     width=\"24px\">\n",
              "    <g>\n",
              "        <path d=\"M19 3H5c-1.1 0-2 .9-2 2v14c0 1.1.9 2 2 2h14c1.1 0 2-.9 2-2V5c0-1.1-.9-2-2-2zM9 17H7v-7h2v7zm4 0h-2V7h2v10zm4 0h-2v-4h2v4z\"/>\n",
              "    </g>\n",
              "</svg>\n",
              "  </button>\n",
              "\n",
              "<style>\n",
              "  .colab-df-quickchart {\n",
              "      --bg-color: #E8F0FE;\n",
              "      --fill-color: #1967D2;\n",
              "      --hover-bg-color: #E2EBFA;\n",
              "      --hover-fill-color: #174EA6;\n",
              "      --disabled-fill-color: #AAA;\n",
              "      --disabled-bg-color: #DDD;\n",
              "  }\n",
              "\n",
              "  [theme=dark] .colab-df-quickchart {\n",
              "      --bg-color: #3B4455;\n",
              "      --fill-color: #D2E3FC;\n",
              "      --hover-bg-color: #434B5C;\n",
              "      --hover-fill-color: #FFFFFF;\n",
              "      --disabled-bg-color: #3B4455;\n",
              "      --disabled-fill-color: #666;\n",
              "  }\n",
              "\n",
              "  .colab-df-quickchart {\n",
              "    background-color: var(--bg-color);\n",
              "    border: none;\n",
              "    border-radius: 50%;\n",
              "    cursor: pointer;\n",
              "    display: none;\n",
              "    fill: var(--fill-color);\n",
              "    height: 32px;\n",
              "    padding: 0;\n",
              "    width: 32px;\n",
              "  }\n",
              "\n",
              "  .colab-df-quickchart:hover {\n",
              "    background-color: var(--hover-bg-color);\n",
              "    box-shadow: 0 1px 2px rgba(60, 64, 67, 0.3), 0 1px 3px 1px rgba(60, 64, 67, 0.15);\n",
              "    fill: var(--button-hover-fill-color);\n",
              "  }\n",
              "\n",
              "  .colab-df-quickchart-complete:disabled,\n",
              "  .colab-df-quickchart-complete:disabled:hover {\n",
              "    background-color: var(--disabled-bg-color);\n",
              "    fill: var(--disabled-fill-color);\n",
              "    box-shadow: none;\n",
              "  }\n",
              "\n",
              "  .colab-df-spinner {\n",
              "    border: 2px solid var(--fill-color);\n",
              "    border-color: transparent;\n",
              "    border-bottom-color: var(--fill-color);\n",
              "    animation:\n",
              "      spin 1s steps(1) infinite;\n",
              "  }\n",
              "\n",
              "  @keyframes spin {\n",
              "    0% {\n",
              "      border-color: transparent;\n",
              "      border-bottom-color: var(--fill-color);\n",
              "      border-left-color: var(--fill-color);\n",
              "    }\n",
              "    20% {\n",
              "      border-color: transparent;\n",
              "      border-left-color: var(--fill-color);\n",
              "      border-top-color: var(--fill-color);\n",
              "    }\n",
              "    30% {\n",
              "      border-color: transparent;\n",
              "      border-left-color: var(--fill-color);\n",
              "      border-top-color: var(--fill-color);\n",
              "      border-right-color: var(--fill-color);\n",
              "    }\n",
              "    40% {\n",
              "      border-color: transparent;\n",
              "      border-right-color: var(--fill-color);\n",
              "      border-top-color: var(--fill-color);\n",
              "    }\n",
              "    60% {\n",
              "      border-color: transparent;\n",
              "      border-right-color: var(--fill-color);\n",
              "    }\n",
              "    80% {\n",
              "      border-color: transparent;\n",
              "      border-right-color: var(--fill-color);\n",
              "      border-bottom-color: var(--fill-color);\n",
              "    }\n",
              "    90% {\n",
              "      border-color: transparent;\n",
              "      border-bottom-color: var(--fill-color);\n",
              "    }\n",
              "  }\n",
              "</style>\n",
              "\n",
              "  <script>\n",
              "    async function quickchart(key) {\n",
              "      const quickchartButtonEl =\n",
              "        document.querySelector('#' + key + ' button');\n",
              "      quickchartButtonEl.disabled = true;  // To prevent multiple clicks.\n",
              "      quickchartButtonEl.classList.add('colab-df-spinner');\n",
              "      try {\n",
              "        const charts = await google.colab.kernel.invokeFunction(\n",
              "            'suggestCharts', [key], {});\n",
              "      } catch (error) {\n",
              "        console.error('Error during call to suggestCharts:', error);\n",
              "      }\n",
              "      quickchartButtonEl.classList.remove('colab-df-spinner');\n",
              "      quickchartButtonEl.classList.add('colab-df-quickchart-complete');\n",
              "    }\n",
              "    (() => {\n",
              "      let quickchartButtonEl =\n",
              "        document.querySelector('#df-c006a4b0-d66e-4a7c-8a0f-c50369660464 button');\n",
              "      quickchartButtonEl.style.display =\n",
              "        google.colab.kernel.accessAllowed ? 'block' : 'none';\n",
              "    })();\n",
              "  </script>\n",
              "</div>\n",
              "\n",
              "    </div>\n",
              "  </div>\n"
            ],
            "text/plain": [
              "  neighbourhood_group  latitude  longitude        room_type price  \\\n",
              "0            Brooklyn  40.64749  -73.97237     Private room   149   \n",
              "1            Brooklyn  40.68514  -73.95976  Entire home/apt    89   \n",
              "2            Brooklyn  40.68688  -73.95596     Private room    60   \n",
              "3            Brooklyn  40.66829  -73.98779     Private room    89   \n",
              "4            Brooklyn  40.70837  -73.95352  Entire home/apt   140   \n",
              "\n",
              "  minimum_nights number_of_reviews availability_365  \n",
              "0              1                 9              365  \n",
              "1              1               270              194  \n",
              "2             45                49                0  \n",
              "3              4               167              314  \n",
              "4              2               148               46  "
            ]
          },
          "execution_count": 78,
          "metadata": {},
          "output_type": "execute_result"
        }
      ],
      "source": [
        "df = editted_df\n",
        "df.head()"
      ]
    },
    {
      "cell_type": "markdown",
      "metadata": {
        "id": "9iz9wtjkKckc"
      },
      "source": [
        "### Label Encoding \"neighbourhood_group\" and \"root_type\""
      ]
    },
    {
      "cell_type": "code",
      "execution_count": 79,
      "metadata": {
        "id": "V5HzR9E1vMKd"
      },
      "outputs": [],
      "source": [
        "le = LabelEncoder() # initialize the lib"
      ]
    },
    {
      "cell_type": "code",
      "execution_count": 80,
      "metadata": {
        "colab": {
          "base_uri": "https://localhost:8080/"
        },
        "id": "JsHGhyqFvuz6",
        "outputId": "4a06e68d-b35f-4b9e-e98e-b5a1a2565e79"
      },
      "outputs": [
        {
          "name": "stdout",
          "output_type": "stream",
          "text": [
            "   neighbourhood_group  latitude  longitude        room_type price  \\\n",
            "0                    1  40.64749  -73.97237     Private room   149   \n",
            "1                    1  40.68514  -73.95976  Entire home/apt    89   \n",
            "2                    1  40.68688  -73.95596     Private room    60   \n",
            "3                    1  40.66829  -73.98779     Private room    89   \n",
            "4                    1  40.70837  -73.95352  Entire home/apt   140   \n",
            "\n",
            "  minimum_nights number_of_reviews availability_365  \n",
            "0              1                 9              365  \n",
            "1              1               270              194  \n",
            "2             45                49                0  \n",
            "3              4               167              314  \n",
            "4              2               148               46  \n"
          ]
        }
      ],
      "source": [
        "leNG = LabelEncoder() # initialize the lib\n",
        "df['neighbourhood_group'] = leNG.fit_transform(df['neighbourhood_group'] )\n",
        "# label encoder will train using this fit_transform\n",
        "print(df.head())"
      ]
    },
    {
      "cell_type": "code",
      "execution_count": 81,
      "metadata": {
        "colab": {
          "base_uri": "https://localhost:8080/"
        },
        "id": "0Zogeek0v7h8",
        "outputId": "29973f33-7e41-41fb-d2a7-1389e6ef2db5"
      },
      "outputs": [
        {
          "name": "stdout",
          "output_type": "stream",
          "text": [
            "   neighbourhood_group  latitude  longitude  room_type price minimum_nights  \\\n",
            "0                    1  40.64749  -73.97237          1   149              1   \n",
            "1                    1  40.68514  -73.95976          0    89              1   \n",
            "2                    1  40.68688  -73.95596          1    60             45   \n",
            "3                    1  40.66829  -73.98779          1    89              4   \n",
            "4                    1  40.70837  -73.95352          0   140              2   \n",
            "\n",
            "  number_of_reviews availability_365  \n",
            "0                 9              365  \n",
            "1               270              194  \n",
            "2                49                0  \n",
            "3               167              314  \n",
            "4               148               46  \n"
          ]
        }
      ],
      "source": [
        "leRT = LabelEncoder() # initialize the lib\n",
        "df['room_type'] = leRT.fit_transform(df['room_type'] )\n",
        "# label encoder will train using this fit_transform\n",
        "print(df.head())"
      ]
    },
    {
      "cell_type": "code",
      "execution_count": 82,
      "metadata": {
        "id": "HL4AHhx4bhir"
      },
      "outputs": [],
      "source": [
        "df['minimum_nights'] = pd.to_numeric(df['minimum_nights'], errors='coerce')\n",
        "df['number_of_reviews']=pd.to_numeric(df['number_of_reviews'],errors='coerce')\n",
        "df['availability_365']=pd.to_numeric(df['availability_365'],errors='coerce')\n",
        "df['price'] = pd.to_numeric(df['price'], errors='coerce')"
      ]
    },
    {
      "cell_type": "code",
      "execution_count": 83,
      "metadata": {
        "colab": {
          "base_uri": "https://localhost:8080/"
        },
        "id": "whLnnj6zbJty",
        "outputId": "d8677c36-42bb-492f-fcab-38d19b7d69c2"
      },
      "outputs": [
        {
          "name": "stdout",
          "output_type": "stream",
          "text": [
            "<class 'pandas.core.frame.DataFrame'>\n",
            "RangeIndex: 46202 entries, 0 to 46201\n",
            "Data columns (total 8 columns):\n",
            " #   Column               Non-Null Count  Dtype  \n",
            "---  ------               --------------  -----  \n",
            " 0   neighbourhood_group  46202 non-null  int64  \n",
            " 1   latitude             46202 non-null  float64\n",
            " 2   longitude            46202 non-null  float64\n",
            " 3   room_type            46202 non-null  int64  \n",
            " 4   price                46202 non-null  int64  \n",
            " 5   minimum_nights       46202 non-null  int64  \n",
            " 6   number_of_reviews    46202 non-null  int64  \n",
            " 7   availability_365     46202 non-null  int64  \n",
            "dtypes: float64(2), int64(6)\n",
            "memory usage: 2.8 MB\n"
          ]
        }
      ],
      "source": [
        "base_df = df\n",
        "base_df.info()"
      ]
    },
    {
      "cell_type": "markdown",
      "metadata": {
        "id": "Mrh3Bmw1O-Yk"
      },
      "source": [
        "### [ REDUNDANT ] One-Hot Encoding \"neighbourhood_group\" and \"root_type\""
      ]
    },
    {
      "cell_type": "code",
      "execution_count": 84,
      "metadata": {
        "colab": {
          "base_uri": "https://localhost:8080/",
          "height": 0
        },
        "id": "BKXpWmJEO5uT",
        "outputId": "0ec7e06d-d207-48c5-c420-468abf5252b3"
      },
      "outputs": [
        {
          "data": {
            "text/html": [
              "\n",
              "  <div id=\"df-d7e85f42-854a-4517-8283-9b4740c7a136\" class=\"colab-df-container\">\n",
              "    <div>\n",
              "<style scoped>\n",
              "    .dataframe tbody tr th:only-of-type {\n",
              "        vertical-align: middle;\n",
              "    }\n",
              "\n",
              "    .dataframe tbody tr th {\n",
              "        vertical-align: top;\n",
              "    }\n",
              "\n",
              "    .dataframe thead th {\n",
              "        text-align: right;\n",
              "    }\n",
              "</style>\n",
              "<table border=\"1\" class=\"dataframe\">\n",
              "  <thead>\n",
              "    <tr style=\"text-align: right;\">\n",
              "      <th></th>\n",
              "      <th>latitude</th>\n",
              "      <th>longitude</th>\n",
              "      <th>price</th>\n",
              "      <th>minimum_nights</th>\n",
              "      <th>number_of_reviews</th>\n",
              "      <th>availability_365</th>\n",
              "      <th>neighbourhood_group_0</th>\n",
              "      <th>neighbourhood_group_1</th>\n",
              "      <th>neighbourhood_group_2</th>\n",
              "      <th>neighbourhood_group_3</th>\n",
              "      <th>neighbourhood_group_4</th>\n",
              "      <th>room_type_0</th>\n",
              "      <th>room_type_1</th>\n",
              "      <th>room_type_2</th>\n",
              "    </tr>\n",
              "  </thead>\n",
              "  <tbody>\n",
              "    <tr>\n",
              "      <th>0</th>\n",
              "      <td>40.64749</td>\n",
              "      <td>-73.97237</td>\n",
              "      <td>149</td>\n",
              "      <td>1</td>\n",
              "      <td>9</td>\n",
              "      <td>365</td>\n",
              "      <td>0</td>\n",
              "      <td>1</td>\n",
              "      <td>0</td>\n",
              "      <td>0</td>\n",
              "      <td>0</td>\n",
              "      <td>0</td>\n",
              "      <td>1</td>\n",
              "      <td>0</td>\n",
              "    </tr>\n",
              "    <tr>\n",
              "      <th>1</th>\n",
              "      <td>40.68514</td>\n",
              "      <td>-73.95976</td>\n",
              "      <td>89</td>\n",
              "      <td>1</td>\n",
              "      <td>270</td>\n",
              "      <td>194</td>\n",
              "      <td>0</td>\n",
              "      <td>1</td>\n",
              "      <td>0</td>\n",
              "      <td>0</td>\n",
              "      <td>0</td>\n",
              "      <td>1</td>\n",
              "      <td>0</td>\n",
              "      <td>0</td>\n",
              "    </tr>\n",
              "    <tr>\n",
              "      <th>2</th>\n",
              "      <td>40.68688</td>\n",
              "      <td>-73.95596</td>\n",
              "      <td>60</td>\n",
              "      <td>45</td>\n",
              "      <td>49</td>\n",
              "      <td>0</td>\n",
              "      <td>0</td>\n",
              "      <td>1</td>\n",
              "      <td>0</td>\n",
              "      <td>0</td>\n",
              "      <td>0</td>\n",
              "      <td>0</td>\n",
              "      <td>1</td>\n",
              "      <td>0</td>\n",
              "    </tr>\n",
              "    <tr>\n",
              "      <th>3</th>\n",
              "      <td>40.66829</td>\n",
              "      <td>-73.98779</td>\n",
              "      <td>89</td>\n",
              "      <td>4</td>\n",
              "      <td>167</td>\n",
              "      <td>314</td>\n",
              "      <td>0</td>\n",
              "      <td>1</td>\n",
              "      <td>0</td>\n",
              "      <td>0</td>\n",
              "      <td>0</td>\n",
              "      <td>0</td>\n",
              "      <td>1</td>\n",
              "      <td>0</td>\n",
              "    </tr>\n",
              "    <tr>\n",
              "      <th>4</th>\n",
              "      <td>40.70837</td>\n",
              "      <td>-73.95352</td>\n",
              "      <td>140</td>\n",
              "      <td>2</td>\n",
              "      <td>148</td>\n",
              "      <td>46</td>\n",
              "      <td>0</td>\n",
              "      <td>1</td>\n",
              "      <td>0</td>\n",
              "      <td>0</td>\n",
              "      <td>0</td>\n",
              "      <td>1</td>\n",
              "      <td>0</td>\n",
              "      <td>0</td>\n",
              "    </tr>\n",
              "  </tbody>\n",
              "</table>\n",
              "</div>\n",
              "    <div class=\"colab-df-buttons\">\n",
              "\n",
              "  <div class=\"colab-df-container\">\n",
              "    <button class=\"colab-df-convert\" onclick=\"convertToInteractive('df-d7e85f42-854a-4517-8283-9b4740c7a136')\"\n",
              "            title=\"Convert this dataframe to an interactive table.\"\n",
              "            style=\"display:none;\">\n",
              "\n",
              "  <svg xmlns=\"http://www.w3.org/2000/svg\" height=\"24px\" viewBox=\"0 -960 960 960\">\n",
              "    <path d=\"M120-120v-720h720v720H120Zm60-500h600v-160H180v160Zm220 220h160v-160H400v160Zm0 220h160v-160H400v160ZM180-400h160v-160H180v160Zm440 0h160v-160H620v160ZM180-180h160v-160H180v160Zm440 0h160v-160H620v160Z\"/>\n",
              "  </svg>\n",
              "    </button>\n",
              "\n",
              "  <style>\n",
              "    .colab-df-container {\n",
              "      display:flex;\n",
              "      gap: 12px;\n",
              "    }\n",
              "\n",
              "    .colab-df-convert {\n",
              "      background-color: #E8F0FE;\n",
              "      border: none;\n",
              "      border-radius: 50%;\n",
              "      cursor: pointer;\n",
              "      display: none;\n",
              "      fill: #1967D2;\n",
              "      height: 32px;\n",
              "      padding: 0 0 0 0;\n",
              "      width: 32px;\n",
              "    }\n",
              "\n",
              "    .colab-df-convert:hover {\n",
              "      background-color: #E2EBFA;\n",
              "      box-shadow: 0px 1px 2px rgba(60, 64, 67, 0.3), 0px 1px 3px 1px rgba(60, 64, 67, 0.15);\n",
              "      fill: #174EA6;\n",
              "    }\n",
              "\n",
              "    .colab-df-buttons div {\n",
              "      margin-bottom: 4px;\n",
              "    }\n",
              "\n",
              "    [theme=dark] .colab-df-convert {\n",
              "      background-color: #3B4455;\n",
              "      fill: #D2E3FC;\n",
              "    }\n",
              "\n",
              "    [theme=dark] .colab-df-convert:hover {\n",
              "      background-color: #434B5C;\n",
              "      box-shadow: 0px 1px 3px 1px rgba(0, 0, 0, 0.15);\n",
              "      filter: drop-shadow(0px 1px 2px rgba(0, 0, 0, 0.3));\n",
              "      fill: #FFFFFF;\n",
              "    }\n",
              "  </style>\n",
              "\n",
              "    <script>\n",
              "      const buttonEl =\n",
              "        document.querySelector('#df-d7e85f42-854a-4517-8283-9b4740c7a136 button.colab-df-convert');\n",
              "      buttonEl.style.display =\n",
              "        google.colab.kernel.accessAllowed ? 'block' : 'none';\n",
              "\n",
              "      async function convertToInteractive(key) {\n",
              "        const element = document.querySelector('#df-d7e85f42-854a-4517-8283-9b4740c7a136');\n",
              "        const dataTable =\n",
              "          await google.colab.kernel.invokeFunction('convertToInteractive',\n",
              "                                                    [key], {});\n",
              "        if (!dataTable) return;\n",
              "\n",
              "        const docLinkHtml = 'Like what you see? Visit the ' +\n",
              "          '<a target=\"_blank\" href=https://colab.research.google.com/notebooks/data_table.ipynb>data table notebook</a>'\n",
              "          + ' to learn more about interactive tables.';\n",
              "        element.innerHTML = '';\n",
              "        dataTable['output_type'] = 'display_data';\n",
              "        await google.colab.output.renderOutput(dataTable, element);\n",
              "        const docLink = document.createElement('div');\n",
              "        docLink.innerHTML = docLinkHtml;\n",
              "        element.appendChild(docLink);\n",
              "      }\n",
              "    </script>\n",
              "  </div>\n",
              "\n",
              "\n",
              "<div id=\"df-d1abc9e5-bb7b-4031-812d-092146b4716d\">\n",
              "  <button class=\"colab-df-quickchart\" onclick=\"quickchart('df-d1abc9e5-bb7b-4031-812d-092146b4716d')\"\n",
              "            title=\"Suggest charts\"\n",
              "            style=\"display:none;\">\n",
              "\n",
              "<svg xmlns=\"http://www.w3.org/2000/svg\" height=\"24px\"viewBox=\"0 0 24 24\"\n",
              "     width=\"24px\">\n",
              "    <g>\n",
              "        <path d=\"M19 3H5c-1.1 0-2 .9-2 2v14c0 1.1.9 2 2 2h14c1.1 0 2-.9 2-2V5c0-1.1-.9-2-2-2zM9 17H7v-7h2v7zm4 0h-2V7h2v10zm4 0h-2v-4h2v4z\"/>\n",
              "    </g>\n",
              "</svg>\n",
              "  </button>\n",
              "\n",
              "<style>\n",
              "  .colab-df-quickchart {\n",
              "      --bg-color: #E8F0FE;\n",
              "      --fill-color: #1967D2;\n",
              "      --hover-bg-color: #E2EBFA;\n",
              "      --hover-fill-color: #174EA6;\n",
              "      --disabled-fill-color: #AAA;\n",
              "      --disabled-bg-color: #DDD;\n",
              "  }\n",
              "\n",
              "  [theme=dark] .colab-df-quickchart {\n",
              "      --bg-color: #3B4455;\n",
              "      --fill-color: #D2E3FC;\n",
              "      --hover-bg-color: #434B5C;\n",
              "      --hover-fill-color: #FFFFFF;\n",
              "      --disabled-bg-color: #3B4455;\n",
              "      --disabled-fill-color: #666;\n",
              "  }\n",
              "\n",
              "  .colab-df-quickchart {\n",
              "    background-color: var(--bg-color);\n",
              "    border: none;\n",
              "    border-radius: 50%;\n",
              "    cursor: pointer;\n",
              "    display: none;\n",
              "    fill: var(--fill-color);\n",
              "    height: 32px;\n",
              "    padding: 0;\n",
              "    width: 32px;\n",
              "  }\n",
              "\n",
              "  .colab-df-quickchart:hover {\n",
              "    background-color: var(--hover-bg-color);\n",
              "    box-shadow: 0 1px 2px rgba(60, 64, 67, 0.3), 0 1px 3px 1px rgba(60, 64, 67, 0.15);\n",
              "    fill: var(--button-hover-fill-color);\n",
              "  }\n",
              "\n",
              "  .colab-df-quickchart-complete:disabled,\n",
              "  .colab-df-quickchart-complete:disabled:hover {\n",
              "    background-color: var(--disabled-bg-color);\n",
              "    fill: var(--disabled-fill-color);\n",
              "    box-shadow: none;\n",
              "  }\n",
              "\n",
              "  .colab-df-spinner {\n",
              "    border: 2px solid var(--fill-color);\n",
              "    border-color: transparent;\n",
              "    border-bottom-color: var(--fill-color);\n",
              "    animation:\n",
              "      spin 1s steps(1) infinite;\n",
              "  }\n",
              "\n",
              "  @keyframes spin {\n",
              "    0% {\n",
              "      border-color: transparent;\n",
              "      border-bottom-color: var(--fill-color);\n",
              "      border-left-color: var(--fill-color);\n",
              "    }\n",
              "    20% {\n",
              "      border-color: transparent;\n",
              "      border-left-color: var(--fill-color);\n",
              "      border-top-color: var(--fill-color);\n",
              "    }\n",
              "    30% {\n",
              "      border-color: transparent;\n",
              "      border-left-color: var(--fill-color);\n",
              "      border-top-color: var(--fill-color);\n",
              "      border-right-color: var(--fill-color);\n",
              "    }\n",
              "    40% {\n",
              "      border-color: transparent;\n",
              "      border-right-color: var(--fill-color);\n",
              "      border-top-color: var(--fill-color);\n",
              "    }\n",
              "    60% {\n",
              "      border-color: transparent;\n",
              "      border-right-color: var(--fill-color);\n",
              "    }\n",
              "    80% {\n",
              "      border-color: transparent;\n",
              "      border-right-color: var(--fill-color);\n",
              "      border-bottom-color: var(--fill-color);\n",
              "    }\n",
              "    90% {\n",
              "      border-color: transparent;\n",
              "      border-bottom-color: var(--fill-color);\n",
              "    }\n",
              "  }\n",
              "</style>\n",
              "\n",
              "  <script>\n",
              "    async function quickchart(key) {\n",
              "      const quickchartButtonEl =\n",
              "        document.querySelector('#' + key + ' button');\n",
              "      quickchartButtonEl.disabled = true;  // To prevent multiple clicks.\n",
              "      quickchartButtonEl.classList.add('colab-df-spinner');\n",
              "      try {\n",
              "        const charts = await google.colab.kernel.invokeFunction(\n",
              "            'suggestCharts', [key], {});\n",
              "      } catch (error) {\n",
              "        console.error('Error during call to suggestCharts:', error);\n",
              "      }\n",
              "      quickchartButtonEl.classList.remove('colab-df-spinner');\n",
              "      quickchartButtonEl.classList.add('colab-df-quickchart-complete');\n",
              "    }\n",
              "    (() => {\n",
              "      let quickchartButtonEl =\n",
              "        document.querySelector('#df-d1abc9e5-bb7b-4031-812d-092146b4716d button');\n",
              "      quickchartButtonEl.style.display =\n",
              "        google.colab.kernel.accessAllowed ? 'block' : 'none';\n",
              "    })();\n",
              "  </script>\n",
              "</div>\n",
              "\n",
              "    </div>\n",
              "  </div>\n"
            ],
            "text/plain": [
              "   latitude  longitude  price  minimum_nights  number_of_reviews  \\\n",
              "0  40.64749  -73.97237    149               1                  9   \n",
              "1  40.68514  -73.95976     89               1                270   \n",
              "2  40.68688  -73.95596     60              45                 49   \n",
              "3  40.66829  -73.98779     89               4                167   \n",
              "4  40.70837  -73.95352    140               2                148   \n",
              "\n",
              "   availability_365  neighbourhood_group_0  neighbourhood_group_1  \\\n",
              "0               365                      0                      1   \n",
              "1               194                      0                      1   \n",
              "2                 0                      0                      1   \n",
              "3               314                      0                      1   \n",
              "4                46                      0                      1   \n",
              "\n",
              "   neighbourhood_group_2  neighbourhood_group_3  neighbourhood_group_4  \\\n",
              "0                      0                      0                      0   \n",
              "1                      0                      0                      0   \n",
              "2                      0                      0                      0   \n",
              "3                      0                      0                      0   \n",
              "4                      0                      0                      0   \n",
              "\n",
              "   room_type_0  room_type_1  room_type_2  \n",
              "0            0            1            0  \n",
              "1            1            0            0  \n",
              "2            0            1            0  \n",
              "3            0            1            0  \n",
              "4            1            0            0  "
            ]
          },
          "execution_count": 84,
          "metadata": {},
          "output_type": "execute_result"
        }
      ],
      "source": [
        "# Perform one-hot encoding\n",
        "df_encoded = pd.get_dummies(df, columns=['neighbourhood_group', 'room_type'], drop_first=False)\n",
        "\n",
        "# Print the DataFrame after one-hot encoding\n",
        "df_encoded.head()"
      ]
    },
    {
      "cell_type": "code",
      "execution_count": 85,
      "metadata": {
        "id": "8NSAFb8WQPJp"
      },
      "outputs": [],
      "source": [
        "#code-block for onehot encoding for now\n",
        "# df = df_encoded"
      ]
    },
    {
      "cell_type": "markdown",
      "metadata": {
        "id": "YSQ934JTKpom"
      },
      "source": [
        "converting the columns to **numeric types**"
      ]
    },
    {
      "cell_type": "code",
      "execution_count": 86,
      "metadata": {
        "colab": {
          "base_uri": "https://localhost:8080/"
        },
        "id": "tpw5_E9H1K2o",
        "outputId": "d5b2c0be-4746-4bdd-f979-90ed20765126"
      },
      "outputs": [
        {
          "name": "stdout",
          "output_type": "stream",
          "text": [
            "<class 'pandas.core.frame.DataFrame'>\n",
            "RangeIndex: 46202 entries, 0 to 46201\n",
            "Data columns (total 8 columns):\n",
            " #   Column               Non-Null Count  Dtype  \n",
            "---  ------               --------------  -----  \n",
            " 0   neighbourhood_group  46202 non-null  int64  \n",
            " 1   latitude             46202 non-null  float64\n",
            " 2   longitude            46202 non-null  float64\n",
            " 3   room_type            46202 non-null  int64  \n",
            " 4   price                46202 non-null  int64  \n",
            " 5   minimum_nights       46202 non-null  int64  \n",
            " 6   number_of_reviews    46202 non-null  int64  \n",
            " 7   availability_365     46202 non-null  int64  \n",
            "dtypes: float64(2), int64(6)\n",
            "memory usage: 2.8 MB\n"
          ]
        }
      ],
      "source": [
        "df.info()"
      ]
    },
    {
      "cell_type": "code",
      "execution_count": 87,
      "metadata": {
        "id": "tVLnuNbRUKAU"
      },
      "outputs": [],
      "source": [
        "#transformation tried\n",
        "\n",
        "# df['price_log'] = np.log(df.price+1)\n",
        "# df.head()"
      ]
    },
    {
      "cell_type": "markdown",
      "metadata": {
        "id": "41JEM1ZaKz9j"
      },
      "source": [
        "## Split Train-Test data"
      ]
    },
    {
      "cell_type": "code",
      "execution_count": 88,
      "metadata": {
        "id": "CT7RXrjmQbyL"
      },
      "outputs": [],
      "source": [
        "df['minimum_nights'] = pd.to_numeric(df['minimum_nights'], errors='coerce')\n",
        "df['number_of_reviews']=pd.to_numeric(df['number_of_reviews'],errors='coerce')\n",
        "df['availability_365']=pd.to_numeric(df['availability_365'],errors='coerce')\n",
        "df['price'] = pd.to_numeric(df['price'], errors='coerce')"
      ]
    },
    {
      "cell_type": "code",
      "execution_count": 89,
      "metadata": {
        "id": "X6m3rtiewP0z"
      },
      "outputs": [],
      "source": [
        "# independent variables\n",
        "x = df.drop(columns=['price'])\n",
        "x = sm.add_constant(x)\n",
        "\n",
        "# target variable\n",
        "y = df['price']"
      ]
    },
    {
      "cell_type": "code",
      "execution_count": 90,
      "metadata": {
        "colab": {
          "base_uri": "https://localhost:8080/",
          "height": 0
        },
        "id": "mPagUMkpMdE8",
        "outputId": "c49fceac-2ad5-4a19-a464-ce951426237d"
      },
      "outputs": [
        {
          "data": {
            "text/html": [
              "\n",
              "  <div id=\"df-0a432921-db64-4ab9-8bf8-d33290b52781\" class=\"colab-df-container\">\n",
              "    <div>\n",
              "<style scoped>\n",
              "    .dataframe tbody tr th:only-of-type {\n",
              "        vertical-align: middle;\n",
              "    }\n",
              "\n",
              "    .dataframe tbody tr th {\n",
              "        vertical-align: top;\n",
              "    }\n",
              "\n",
              "    .dataframe thead th {\n",
              "        text-align: right;\n",
              "    }\n",
              "</style>\n",
              "<table border=\"1\" class=\"dataframe\">\n",
              "  <thead>\n",
              "    <tr style=\"text-align: right;\">\n",
              "      <th></th>\n",
              "      <th>const</th>\n",
              "      <th>neighbourhood_group</th>\n",
              "      <th>latitude</th>\n",
              "      <th>longitude</th>\n",
              "      <th>room_type</th>\n",
              "      <th>minimum_nights</th>\n",
              "      <th>number_of_reviews</th>\n",
              "      <th>availability_365</th>\n",
              "    </tr>\n",
              "  </thead>\n",
              "  <tbody>\n",
              "    <tr>\n",
              "      <th>0</th>\n",
              "      <td>1.0</td>\n",
              "      <td>1</td>\n",
              "      <td>40.64749</td>\n",
              "      <td>-73.97237</td>\n",
              "      <td>1</td>\n",
              "      <td>1</td>\n",
              "      <td>9</td>\n",
              "      <td>365</td>\n",
              "    </tr>\n",
              "    <tr>\n",
              "      <th>1</th>\n",
              "      <td>1.0</td>\n",
              "      <td>1</td>\n",
              "      <td>40.68514</td>\n",
              "      <td>-73.95976</td>\n",
              "      <td>0</td>\n",
              "      <td>1</td>\n",
              "      <td>270</td>\n",
              "      <td>194</td>\n",
              "    </tr>\n",
              "    <tr>\n",
              "      <th>2</th>\n",
              "      <td>1.0</td>\n",
              "      <td>1</td>\n",
              "      <td>40.68688</td>\n",
              "      <td>-73.95596</td>\n",
              "      <td>1</td>\n",
              "      <td>45</td>\n",
              "      <td>49</td>\n",
              "      <td>0</td>\n",
              "    </tr>\n",
              "    <tr>\n",
              "      <th>3</th>\n",
              "      <td>1.0</td>\n",
              "      <td>1</td>\n",
              "      <td>40.66829</td>\n",
              "      <td>-73.98779</td>\n",
              "      <td>1</td>\n",
              "      <td>4</td>\n",
              "      <td>167</td>\n",
              "      <td>314</td>\n",
              "    </tr>\n",
              "    <tr>\n",
              "      <th>4</th>\n",
              "      <td>1.0</td>\n",
              "      <td>1</td>\n",
              "      <td>40.70837</td>\n",
              "      <td>-73.95352</td>\n",
              "      <td>0</td>\n",
              "      <td>2</td>\n",
              "      <td>148</td>\n",
              "      <td>46</td>\n",
              "    </tr>\n",
              "  </tbody>\n",
              "</table>\n",
              "</div>\n",
              "    <div class=\"colab-df-buttons\">\n",
              "\n",
              "  <div class=\"colab-df-container\">\n",
              "    <button class=\"colab-df-convert\" onclick=\"convertToInteractive('df-0a432921-db64-4ab9-8bf8-d33290b52781')\"\n",
              "            title=\"Convert this dataframe to an interactive table.\"\n",
              "            style=\"display:none;\">\n",
              "\n",
              "  <svg xmlns=\"http://www.w3.org/2000/svg\" height=\"24px\" viewBox=\"0 -960 960 960\">\n",
              "    <path d=\"M120-120v-720h720v720H120Zm60-500h600v-160H180v160Zm220 220h160v-160H400v160Zm0 220h160v-160H400v160ZM180-400h160v-160H180v160Zm440 0h160v-160H620v160ZM180-180h160v-160H180v160Zm440 0h160v-160H620v160Z\"/>\n",
              "  </svg>\n",
              "    </button>\n",
              "\n",
              "  <style>\n",
              "    .colab-df-container {\n",
              "      display:flex;\n",
              "      gap: 12px;\n",
              "    }\n",
              "\n",
              "    .colab-df-convert {\n",
              "      background-color: #E8F0FE;\n",
              "      border: none;\n",
              "      border-radius: 50%;\n",
              "      cursor: pointer;\n",
              "      display: none;\n",
              "      fill: #1967D2;\n",
              "      height: 32px;\n",
              "      padding: 0 0 0 0;\n",
              "      width: 32px;\n",
              "    }\n",
              "\n",
              "    .colab-df-convert:hover {\n",
              "      background-color: #E2EBFA;\n",
              "      box-shadow: 0px 1px 2px rgba(60, 64, 67, 0.3), 0px 1px 3px 1px rgba(60, 64, 67, 0.15);\n",
              "      fill: #174EA6;\n",
              "    }\n",
              "\n",
              "    .colab-df-buttons div {\n",
              "      margin-bottom: 4px;\n",
              "    }\n",
              "\n",
              "    [theme=dark] .colab-df-convert {\n",
              "      background-color: #3B4455;\n",
              "      fill: #D2E3FC;\n",
              "    }\n",
              "\n",
              "    [theme=dark] .colab-df-convert:hover {\n",
              "      background-color: #434B5C;\n",
              "      box-shadow: 0px 1px 3px 1px rgba(0, 0, 0, 0.15);\n",
              "      filter: drop-shadow(0px 1px 2px rgba(0, 0, 0, 0.3));\n",
              "      fill: #FFFFFF;\n",
              "    }\n",
              "  </style>\n",
              "\n",
              "    <script>\n",
              "      const buttonEl =\n",
              "        document.querySelector('#df-0a432921-db64-4ab9-8bf8-d33290b52781 button.colab-df-convert');\n",
              "      buttonEl.style.display =\n",
              "        google.colab.kernel.accessAllowed ? 'block' : 'none';\n",
              "\n",
              "      async function convertToInteractive(key) {\n",
              "        const element = document.querySelector('#df-0a432921-db64-4ab9-8bf8-d33290b52781');\n",
              "        const dataTable =\n",
              "          await google.colab.kernel.invokeFunction('convertToInteractive',\n",
              "                                                    [key], {});\n",
              "        if (!dataTable) return;\n",
              "\n",
              "        const docLinkHtml = 'Like what you see? Visit the ' +\n",
              "          '<a target=\"_blank\" href=https://colab.research.google.com/notebooks/data_table.ipynb>data table notebook</a>'\n",
              "          + ' to learn more about interactive tables.';\n",
              "        element.innerHTML = '';\n",
              "        dataTable['output_type'] = 'display_data';\n",
              "        await google.colab.output.renderOutput(dataTable, element);\n",
              "        const docLink = document.createElement('div');\n",
              "        docLink.innerHTML = docLinkHtml;\n",
              "        element.appendChild(docLink);\n",
              "      }\n",
              "    </script>\n",
              "  </div>\n",
              "\n",
              "\n",
              "<div id=\"df-0409ab21-5b5b-4798-a8db-a63d777dc437\">\n",
              "  <button class=\"colab-df-quickchart\" onclick=\"quickchart('df-0409ab21-5b5b-4798-a8db-a63d777dc437')\"\n",
              "            title=\"Suggest charts\"\n",
              "            style=\"display:none;\">\n",
              "\n",
              "<svg xmlns=\"http://www.w3.org/2000/svg\" height=\"24px\"viewBox=\"0 0 24 24\"\n",
              "     width=\"24px\">\n",
              "    <g>\n",
              "        <path d=\"M19 3H5c-1.1 0-2 .9-2 2v14c0 1.1.9 2 2 2h14c1.1 0 2-.9 2-2V5c0-1.1-.9-2-2-2zM9 17H7v-7h2v7zm4 0h-2V7h2v10zm4 0h-2v-4h2v4z\"/>\n",
              "    </g>\n",
              "</svg>\n",
              "  </button>\n",
              "\n",
              "<style>\n",
              "  .colab-df-quickchart {\n",
              "      --bg-color: #E8F0FE;\n",
              "      --fill-color: #1967D2;\n",
              "      --hover-bg-color: #E2EBFA;\n",
              "      --hover-fill-color: #174EA6;\n",
              "      --disabled-fill-color: #AAA;\n",
              "      --disabled-bg-color: #DDD;\n",
              "  }\n",
              "\n",
              "  [theme=dark] .colab-df-quickchart {\n",
              "      --bg-color: #3B4455;\n",
              "      --fill-color: #D2E3FC;\n",
              "      --hover-bg-color: #434B5C;\n",
              "      --hover-fill-color: #FFFFFF;\n",
              "      --disabled-bg-color: #3B4455;\n",
              "      --disabled-fill-color: #666;\n",
              "  }\n",
              "\n",
              "  .colab-df-quickchart {\n",
              "    background-color: var(--bg-color);\n",
              "    border: none;\n",
              "    border-radius: 50%;\n",
              "    cursor: pointer;\n",
              "    display: none;\n",
              "    fill: var(--fill-color);\n",
              "    height: 32px;\n",
              "    padding: 0;\n",
              "    width: 32px;\n",
              "  }\n",
              "\n",
              "  .colab-df-quickchart:hover {\n",
              "    background-color: var(--hover-bg-color);\n",
              "    box-shadow: 0 1px 2px rgba(60, 64, 67, 0.3), 0 1px 3px 1px rgba(60, 64, 67, 0.15);\n",
              "    fill: var(--button-hover-fill-color);\n",
              "  }\n",
              "\n",
              "  .colab-df-quickchart-complete:disabled,\n",
              "  .colab-df-quickchart-complete:disabled:hover {\n",
              "    background-color: var(--disabled-bg-color);\n",
              "    fill: var(--disabled-fill-color);\n",
              "    box-shadow: none;\n",
              "  }\n",
              "\n",
              "  .colab-df-spinner {\n",
              "    border: 2px solid var(--fill-color);\n",
              "    border-color: transparent;\n",
              "    border-bottom-color: var(--fill-color);\n",
              "    animation:\n",
              "      spin 1s steps(1) infinite;\n",
              "  }\n",
              "\n",
              "  @keyframes spin {\n",
              "    0% {\n",
              "      border-color: transparent;\n",
              "      border-bottom-color: var(--fill-color);\n",
              "      border-left-color: var(--fill-color);\n",
              "    }\n",
              "    20% {\n",
              "      border-color: transparent;\n",
              "      border-left-color: var(--fill-color);\n",
              "      border-top-color: var(--fill-color);\n",
              "    }\n",
              "    30% {\n",
              "      border-color: transparent;\n",
              "      border-left-color: var(--fill-color);\n",
              "      border-top-color: var(--fill-color);\n",
              "      border-right-color: var(--fill-color);\n",
              "    }\n",
              "    40% {\n",
              "      border-color: transparent;\n",
              "      border-right-color: var(--fill-color);\n",
              "      border-top-color: var(--fill-color);\n",
              "    }\n",
              "    60% {\n",
              "      border-color: transparent;\n",
              "      border-right-color: var(--fill-color);\n",
              "    }\n",
              "    80% {\n",
              "      border-color: transparent;\n",
              "      border-right-color: var(--fill-color);\n",
              "      border-bottom-color: var(--fill-color);\n",
              "    }\n",
              "    90% {\n",
              "      border-color: transparent;\n",
              "      border-bottom-color: var(--fill-color);\n",
              "    }\n",
              "  }\n",
              "</style>\n",
              "\n",
              "  <script>\n",
              "    async function quickchart(key) {\n",
              "      const quickchartButtonEl =\n",
              "        document.querySelector('#' + key + ' button');\n",
              "      quickchartButtonEl.disabled = true;  // To prevent multiple clicks.\n",
              "      quickchartButtonEl.classList.add('colab-df-spinner');\n",
              "      try {\n",
              "        const charts = await google.colab.kernel.invokeFunction(\n",
              "            'suggestCharts', [key], {});\n",
              "      } catch (error) {\n",
              "        console.error('Error during call to suggestCharts:', error);\n",
              "      }\n",
              "      quickchartButtonEl.classList.remove('colab-df-spinner');\n",
              "      quickchartButtonEl.classList.add('colab-df-quickchart-complete');\n",
              "    }\n",
              "    (() => {\n",
              "      let quickchartButtonEl =\n",
              "        document.querySelector('#df-0409ab21-5b5b-4798-a8db-a63d777dc437 button');\n",
              "      quickchartButtonEl.style.display =\n",
              "        google.colab.kernel.accessAllowed ? 'block' : 'none';\n",
              "    })();\n",
              "  </script>\n",
              "</div>\n",
              "\n",
              "    </div>\n",
              "  </div>\n"
            ],
            "text/plain": [
              "   const  neighbourhood_group  latitude  longitude  room_type  minimum_nights  \\\n",
              "0    1.0                    1  40.64749  -73.97237          1               1   \n",
              "1    1.0                    1  40.68514  -73.95976          0               1   \n",
              "2    1.0                    1  40.68688  -73.95596          1              45   \n",
              "3    1.0                    1  40.66829  -73.98779          1               4   \n",
              "4    1.0                    1  40.70837  -73.95352          0               2   \n",
              "\n",
              "   number_of_reviews  availability_365  \n",
              "0                  9               365  \n",
              "1                270               194  \n",
              "2                 49                 0  \n",
              "3                167               314  \n",
              "4                148                46  "
            ]
          },
          "execution_count": 90,
          "metadata": {},
          "output_type": "execute_result"
        }
      ],
      "source": [
        "x.head()"
      ]
    },
    {
      "cell_type": "code",
      "execution_count": 91,
      "metadata": {
        "colab": {
          "base_uri": "https://localhost:8080/"
        },
        "id": "EkpCWCNQ0i-V",
        "outputId": "a99d4f87-213e-415e-f35b-6d551f892d1c"
      },
      "outputs": [
        {
          "name": "stdout",
          "output_type": "stream",
          "text": [
            "<class 'pandas.core.frame.DataFrame'>\n",
            "RangeIndex: 46202 entries, 0 to 46201\n",
            "Data columns (total 8 columns):\n",
            " #   Column               Non-Null Count  Dtype  \n",
            "---  ------               --------------  -----  \n",
            " 0   const                46202 non-null  float64\n",
            " 1   neighbourhood_group  46202 non-null  int64  \n",
            " 2   latitude             46202 non-null  float64\n",
            " 3   longitude            46202 non-null  float64\n",
            " 4   room_type            46202 non-null  int64  \n",
            " 5   minimum_nights       46202 non-null  int64  \n",
            " 6   number_of_reviews    46202 non-null  int64  \n",
            " 7   availability_365     46202 non-null  int64  \n",
            "dtypes: float64(3), int64(5)\n",
            "memory usage: 2.8 MB\n"
          ]
        }
      ],
      "source": [
        "x.info()"
      ]
    },
    {
      "cell_type": "code",
      "execution_count": 92,
      "metadata": {
        "colab": {
          "base_uri": "https://localhost:8080/"
        },
        "id": "DFApT0paw1sS",
        "outputId": "ff5e4c4b-3242-43c6-db46-7dd2295f8a1b"
      },
      "outputs": [
        {
          "data": {
            "text/plain": [
              "0    149\n",
              "1     89\n",
              "2     60\n",
              "3     89\n",
              "4    140\n",
              "Name: price, dtype: int64"
            ]
          },
          "execution_count": 92,
          "metadata": {},
          "output_type": "execute_result"
        }
      ],
      "source": [
        "y.head()"
      ]
    },
    {
      "cell_type": "code",
      "execution_count": 93,
      "metadata": {
        "colab": {
          "base_uri": "https://localhost:8080/"
        },
        "id": "DfYhcoSdXDcl",
        "outputId": "44c6db12-bffc-47a2-cf03-4c8df0d425ff"
      },
      "outputs": [
        {
          "name": "stdout",
          "output_type": "stream",
          "text": [
            "       const  neighbourhood_group  latitude  longitude  room_type  \\\n",
            "0        1.0                    1  40.64749  -73.97237          1   \n",
            "1        1.0                    1  40.68514  -73.95976          0   \n",
            "2        1.0                    1  40.68688  -73.95596          1   \n",
            "3        1.0                    1  40.66829  -73.98779          1   \n",
            "4        1.0                    1  40.70837  -73.95352          0   \n",
            "...      ...                  ...       ...        ...        ...   \n",
            "46197    1.0                    0  40.83926  -73.91173          1   \n",
            "46198    1.0                    0  40.83146  -73.89666          0   \n",
            "46199    1.0                    0  40.83502  -73.91058          1   \n",
            "46200    1.0                    0  40.83372  -73.91187          1   \n",
            "46201    1.0                    0  40.80787  -73.92400          0   \n",
            "\n",
            "       minimum_nights  number_of_reviews  availability_365  \n",
            "0                   1                  9               365  \n",
            "1                   1                270               194  \n",
            "2                  45                 49                 0  \n",
            "3                   4                167               314  \n",
            "4                   2                148                46  \n",
            "...               ...                ...               ...  \n",
            "46197               1                  0                90  \n",
            "46198               7                  0                71  \n",
            "46199               2                  0               364  \n",
            "46200               2                  0                81  \n",
            "46201               1                  2                40  \n",
            "\n",
            "[46202 rows x 8 columns]\n"
          ]
        }
      ],
      "source": [
        "print(x)"
      ]
    },
    {
      "cell_type": "code",
      "execution_count": 93,
      "metadata": {
        "id": "ZoOmJElIWwVn"
      },
      "outputs": [],
      "source": []
    },
    {
      "cell_type": "code",
      "execution_count": 94,
      "metadata": {
        "id": "yLJw2vznw3uR"
      },
      "outputs": [],
      "source": [
        "xtrain,xtest,ytrain,ytest = train_test_split(x,y,test_size=0.2,random_state=30)"
      ]
    },
    {
      "cell_type": "markdown",
      "metadata": {
        "id": "bzOLEGTMMhUd"
      },
      "source": [
        "# Regression"
      ]
    },
    {
      "cell_type": "markdown",
      "metadata": {
        "id": "XOxl1N8bbbu-"
      },
      "source": [
        "### Split Train-Test for Regression"
      ]
    },
    {
      "cell_type": "code",
      "execution_count": null,
      "metadata": {
        "colab": {
          "base_uri": "https://localhost:8080/"
        },
        "id": "IJbu8YQPbS8I",
        "outputId": "9679529b-143e-4f86-8f23-2cc1ffddfb58"
      },
      "outputs": [
        {
          "name": "stdout",
          "output_type": "stream",
          "text": [
            "<class 'pandas.core.frame.DataFrame'>\n",
            "RangeIndex: 46202 entries, 0 to 46201\n",
            "Data columns (total 8 columns):\n",
            " #   Column               Non-Null Count  Dtype  \n",
            "---  ------               --------------  -----  \n",
            " 0   neighbourhood_group  46202 non-null  int64  \n",
            " 1   latitude             46202 non-null  float64\n",
            " 2   longitude            46202 non-null  float64\n",
            " 3   room_type            46202 non-null  int64  \n",
            " 4   price                46202 non-null  int64  \n",
            " 5   minimum_nights       46202 non-null  int64  \n",
            " 6   number_of_reviews    46202 non-null  int64  \n",
            " 7   availability_365     46202 non-null  int64  \n",
            "dtypes: float64(2), int64(6)\n",
            "memory usage: 2.8 MB\n"
          ]
        }
      ],
      "source": [
        "df.info()"
      ]
    },
    {
      "cell_type": "code",
      "execution_count": null,
      "metadata": {
        "id": "sYKv0xIgboYf"
      },
      "outputs": [],
      "source": [
        "regression_columns_to_drop = ['latitude', 'longitude']\n",
        "df = base_df.drop(columns = regression_columns_to_drop)\n",
        "df = sm.add_constant(df)"
      ]
    },
    {
      "cell_type": "code",
      "execution_count": null,
      "metadata": {
        "id": "HUgjrFKlcYBJ"
      },
      "outputs": [],
      "source": [
        "# independent variables\n",
        "x = df.drop(columns=['price'])\n",
        "\n",
        "# target variable\n",
        "y = df['price']"
      ]
    },
    {
      "cell_type": "code",
      "execution_count": null,
      "metadata": {
        "id": "m3P1zdcRdBYC"
      },
      "outputs": [],
      "source": [
        "xtrain,xtest,ytrain,ytest = train_test_split(x,y,test_size=0.2,random_state=30)"
      ]
    },
    {
      "cell_type": "markdown",
      "metadata": {
        "id": "CwR8WJGpMlqj"
      },
      "source": [
        "### OLS Regression"
      ]
    },
    {
      "cell_type": "code",
      "execution_count": null,
      "metadata": {
        "colab": {
          "base_uri": "https://localhost:8080/"
        },
        "id": "J-dB8rydxAvY",
        "outputId": "82a9561e-6176-4848-e6c1-6a90a8c7edd0"
      },
      "outputs": [
        {
          "name": "stdout",
          "output_type": "stream",
          "text": [
            "                            OLS Regression Results                            \n",
            "==============================================================================\n",
            "Dep. Variable:                  price   R-squared:                       0.359\n",
            "Model:                            OLS   Adj. R-squared:                  0.359\n",
            "Method:                 Least Squares   F-statistic:                     4138.\n",
            "Date:                Sun, 24 Dec 2023   Prob (F-statistic):               0.00\n",
            "Time:                        06:40:11   Log-Likelihood:            -2.0329e+05\n",
            "No. Observations:               36961   AIC:                         4.066e+05\n",
            "Df Residuals:                   36955   BIC:                         4.066e+05\n",
            "Df Model:                           5                                         \n",
            "Covariance Type:            nonrobust                                         \n",
            "=======================================================================================\n",
            "                          coef    std err          t      P>|t|      [0.025      0.975]\n",
            "---------------------------------------------------------------------------------------\n",
            "const                 148.1887      0.860    172.247      0.000     146.502     149.875\n",
            "neighbourhood_group     7.8359      0.420     18.677      0.000       7.014       8.658\n",
            "room_type             -79.5484      0.566   -140.548      0.000     -80.658     -78.439\n",
            "minimum_nights         -0.1113      0.015     -7.438      0.000      -0.141      -0.082\n",
            "number_of_reviews      -0.1074      0.007    -15.375      0.000      -0.121      -0.094\n",
            "availability_365        0.0604      0.002     24.679      0.000       0.056       0.065\n",
            "==============================================================================\n",
            "Omnibus:                     9242.248   Durbin-Watson:                   1.990\n",
            "Prob(Omnibus):                  0.000   Jarque-Bera (JB):            24510.997\n",
            "Skew:                           1.348   Prob(JB):                         0.00\n",
            "Kurtosis:                       5.941   Cond. No.                         530.\n",
            "==============================================================================\n",
            "\n",
            "Notes:\n",
            "[1] Standard Errors assume that the covariance matrix of the errors is correctly specified.\n",
            "Mean Squared Error (MSE): 3516.5111522615025\n",
            "R-squared (R2): 0.34896011423008344\n"
          ]
        }
      ],
      "source": [
        "# Create and fit the regression model\n",
        "model = sm.OLS(ytrain, xtrain)\n",
        "results = model.fit()\n",
        "\n",
        "# Print the summary of the regression results\n",
        "print(results.summary())\n",
        "\n",
        "# Make predictions on the test set\n",
        "ypred = results.predict(xtest)\n",
        "\n",
        "# Evaluate the model\n",
        "mse = mean_squared_error(ytest, ypred)\n",
        "r2 = r2_score(ytest, ypred)\n",
        "\n",
        "# Print the evaluation metrics\n",
        "print(f'Mean Squared Error (MSE): {mse}')\n",
        "print(f'R-squared (R2): {r2}')"
      ]
    },
    {
      "cell_type": "markdown",
      "metadata": {
        "id": "9R9PStNnMnYt"
      },
      "source": [
        "### Linear Regression"
      ]
    },
    {
      "cell_type": "code",
      "execution_count": null,
      "metadata": {
        "colab": {
          "base_uri": "https://localhost:8080/",
          "height": 206
        },
        "id": "uCP2nD3_NR0V",
        "outputId": "62de9edc-9d6d-4af5-e2a2-a597e19bf20e"
      },
      "outputs": [
        {
          "data": {
            "text/html": [
              "\n",
              "  <div id=\"df-3637bbec-3044-4a8b-8390-196bbf908f3b\" class=\"colab-df-container\">\n",
              "    <div>\n",
              "<style scoped>\n",
              "    .dataframe tbody tr th:only-of-type {\n",
              "        vertical-align: middle;\n",
              "    }\n",
              "\n",
              "    .dataframe tbody tr th {\n",
              "        vertical-align: top;\n",
              "    }\n",
              "\n",
              "    .dataframe thead th {\n",
              "        text-align: right;\n",
              "    }\n",
              "</style>\n",
              "<table border=\"1\" class=\"dataframe\">\n",
              "  <thead>\n",
              "    <tr style=\"text-align: right;\">\n",
              "      <th></th>\n",
              "      <th>const</th>\n",
              "      <th>neighbourhood_group</th>\n",
              "      <th>room_type</th>\n",
              "      <th>minimum_nights</th>\n",
              "      <th>number_of_reviews</th>\n",
              "      <th>availability_365</th>\n",
              "    </tr>\n",
              "  </thead>\n",
              "  <tbody>\n",
              "    <tr>\n",
              "      <th>31228</th>\n",
              "      <td>1.0</td>\n",
              "      <td>2</td>\n",
              "      <td>0</td>\n",
              "      <td>30</td>\n",
              "      <td>1</td>\n",
              "      <td>3</td>\n",
              "    </tr>\n",
              "    <tr>\n",
              "      <th>11382</th>\n",
              "      <td>1.0</td>\n",
              "      <td>1</td>\n",
              "      <td>1</td>\n",
              "      <td>1</td>\n",
              "      <td>21</td>\n",
              "      <td>130</td>\n",
              "    </tr>\n",
              "    <tr>\n",
              "      <th>3753</th>\n",
              "      <td>1.0</td>\n",
              "      <td>1</td>\n",
              "      <td>0</td>\n",
              "      <td>2</td>\n",
              "      <td>23</td>\n",
              "      <td>190</td>\n",
              "    </tr>\n",
              "    <tr>\n",
              "      <th>35446</th>\n",
              "      <td>1.0</td>\n",
              "      <td>2</td>\n",
              "      <td>2</td>\n",
              "      <td>2</td>\n",
              "      <td>15</td>\n",
              "      <td>96</td>\n",
              "    </tr>\n",
              "    <tr>\n",
              "      <th>17156</th>\n",
              "      <td>1.0</td>\n",
              "      <td>1</td>\n",
              "      <td>2</td>\n",
              "      <td>30</td>\n",
              "      <td>1</td>\n",
              "      <td>341</td>\n",
              "    </tr>\n",
              "  </tbody>\n",
              "</table>\n",
              "</div>\n",
              "    <div class=\"colab-df-buttons\">\n",
              "\n",
              "  <div class=\"colab-df-container\">\n",
              "    <button class=\"colab-df-convert\" onclick=\"convertToInteractive('df-3637bbec-3044-4a8b-8390-196bbf908f3b')\"\n",
              "            title=\"Convert this dataframe to an interactive table.\"\n",
              "            style=\"display:none;\">\n",
              "\n",
              "  <svg xmlns=\"http://www.w3.org/2000/svg\" height=\"24px\" viewBox=\"0 -960 960 960\">\n",
              "    <path d=\"M120-120v-720h720v720H120Zm60-500h600v-160H180v160Zm220 220h160v-160H400v160Zm0 220h160v-160H400v160ZM180-400h160v-160H180v160Zm440 0h160v-160H620v160ZM180-180h160v-160H180v160Zm440 0h160v-160H620v160Z\"/>\n",
              "  </svg>\n",
              "    </button>\n",
              "\n",
              "  <style>\n",
              "    .colab-df-container {\n",
              "      display:flex;\n",
              "      gap: 12px;\n",
              "    }\n",
              "\n",
              "    .colab-df-convert {\n",
              "      background-color: #E8F0FE;\n",
              "      border: none;\n",
              "      border-radius: 50%;\n",
              "      cursor: pointer;\n",
              "      display: none;\n",
              "      fill: #1967D2;\n",
              "      height: 32px;\n",
              "      padding: 0 0 0 0;\n",
              "      width: 32px;\n",
              "    }\n",
              "\n",
              "    .colab-df-convert:hover {\n",
              "      background-color: #E2EBFA;\n",
              "      box-shadow: 0px 1px 2px rgba(60, 64, 67, 0.3), 0px 1px 3px 1px rgba(60, 64, 67, 0.15);\n",
              "      fill: #174EA6;\n",
              "    }\n",
              "\n",
              "    .colab-df-buttons div {\n",
              "      margin-bottom: 4px;\n",
              "    }\n",
              "\n",
              "    [theme=dark] .colab-df-convert {\n",
              "      background-color: #3B4455;\n",
              "      fill: #D2E3FC;\n",
              "    }\n",
              "\n",
              "    [theme=dark] .colab-df-convert:hover {\n",
              "      background-color: #434B5C;\n",
              "      box-shadow: 0px 1px 3px 1px rgba(0, 0, 0, 0.15);\n",
              "      filter: drop-shadow(0px 1px 2px rgba(0, 0, 0, 0.3));\n",
              "      fill: #FFFFFF;\n",
              "    }\n",
              "  </style>\n",
              "\n",
              "    <script>\n",
              "      const buttonEl =\n",
              "        document.querySelector('#df-3637bbec-3044-4a8b-8390-196bbf908f3b button.colab-df-convert');\n",
              "      buttonEl.style.display =\n",
              "        google.colab.kernel.accessAllowed ? 'block' : 'none';\n",
              "\n",
              "      async function convertToInteractive(key) {\n",
              "        const element = document.querySelector('#df-3637bbec-3044-4a8b-8390-196bbf908f3b');\n",
              "        const dataTable =\n",
              "          await google.colab.kernel.invokeFunction('convertToInteractive',\n",
              "                                                    [key], {});\n",
              "        if (!dataTable) return;\n",
              "\n",
              "        const docLinkHtml = 'Like what you see? Visit the ' +\n",
              "          '<a target=\"_blank\" href=https://colab.research.google.com/notebooks/data_table.ipynb>data table notebook</a>'\n",
              "          + ' to learn more about interactive tables.';\n",
              "        element.innerHTML = '';\n",
              "        dataTable['output_type'] = 'display_data';\n",
              "        await google.colab.output.renderOutput(dataTable, element);\n",
              "        const docLink = document.createElement('div');\n",
              "        docLink.innerHTML = docLinkHtml;\n",
              "        element.appendChild(docLink);\n",
              "      }\n",
              "    </script>\n",
              "  </div>\n",
              "\n",
              "\n",
              "<div id=\"df-47ff76ca-b53b-48f5-a290-cf37ea1e1c74\">\n",
              "  <button class=\"colab-df-quickchart\" onclick=\"quickchart('df-47ff76ca-b53b-48f5-a290-cf37ea1e1c74')\"\n",
              "            title=\"Suggest charts\"\n",
              "            style=\"display:none;\">\n",
              "\n",
              "<svg xmlns=\"http://www.w3.org/2000/svg\" height=\"24px\"viewBox=\"0 0 24 24\"\n",
              "     width=\"24px\">\n",
              "    <g>\n",
              "        <path d=\"M19 3H5c-1.1 0-2 .9-2 2v14c0 1.1.9 2 2 2h14c1.1 0 2-.9 2-2V5c0-1.1-.9-2-2-2zM9 17H7v-7h2v7zm4 0h-2V7h2v10zm4 0h-2v-4h2v4z\"/>\n",
              "    </g>\n",
              "</svg>\n",
              "  </button>\n",
              "\n",
              "<style>\n",
              "  .colab-df-quickchart {\n",
              "      --bg-color: #E8F0FE;\n",
              "      --fill-color: #1967D2;\n",
              "      --hover-bg-color: #E2EBFA;\n",
              "      --hover-fill-color: #174EA6;\n",
              "      --disabled-fill-color: #AAA;\n",
              "      --disabled-bg-color: #DDD;\n",
              "  }\n",
              "\n",
              "  [theme=dark] .colab-df-quickchart {\n",
              "      --bg-color: #3B4455;\n",
              "      --fill-color: #D2E3FC;\n",
              "      --hover-bg-color: #434B5C;\n",
              "      --hover-fill-color: #FFFFFF;\n",
              "      --disabled-bg-color: #3B4455;\n",
              "      --disabled-fill-color: #666;\n",
              "  }\n",
              "\n",
              "  .colab-df-quickchart {\n",
              "    background-color: var(--bg-color);\n",
              "    border: none;\n",
              "    border-radius: 50%;\n",
              "    cursor: pointer;\n",
              "    display: none;\n",
              "    fill: var(--fill-color);\n",
              "    height: 32px;\n",
              "    padding: 0;\n",
              "    width: 32px;\n",
              "  }\n",
              "\n",
              "  .colab-df-quickchart:hover {\n",
              "    background-color: var(--hover-bg-color);\n",
              "    box-shadow: 0 1px 2px rgba(60, 64, 67, 0.3), 0 1px 3px 1px rgba(60, 64, 67, 0.15);\n",
              "    fill: var(--button-hover-fill-color);\n",
              "  }\n",
              "\n",
              "  .colab-df-quickchart-complete:disabled,\n",
              "  .colab-df-quickchart-complete:disabled:hover {\n",
              "    background-color: var(--disabled-bg-color);\n",
              "    fill: var(--disabled-fill-color);\n",
              "    box-shadow: none;\n",
              "  }\n",
              "\n",
              "  .colab-df-spinner {\n",
              "    border: 2px solid var(--fill-color);\n",
              "    border-color: transparent;\n",
              "    border-bottom-color: var(--fill-color);\n",
              "    animation:\n",
              "      spin 1s steps(1) infinite;\n",
              "  }\n",
              "\n",
              "  @keyframes spin {\n",
              "    0% {\n",
              "      border-color: transparent;\n",
              "      border-bottom-color: var(--fill-color);\n",
              "      border-left-color: var(--fill-color);\n",
              "    }\n",
              "    20% {\n",
              "      border-color: transparent;\n",
              "      border-left-color: var(--fill-color);\n",
              "      border-top-color: var(--fill-color);\n",
              "    }\n",
              "    30% {\n",
              "      border-color: transparent;\n",
              "      border-left-color: var(--fill-color);\n",
              "      border-top-color: var(--fill-color);\n",
              "      border-right-color: var(--fill-color);\n",
              "    }\n",
              "    40% {\n",
              "      border-color: transparent;\n",
              "      border-right-color: var(--fill-color);\n",
              "      border-top-color: var(--fill-color);\n",
              "    }\n",
              "    60% {\n",
              "      border-color: transparent;\n",
              "      border-right-color: var(--fill-color);\n",
              "    }\n",
              "    80% {\n",
              "      border-color: transparent;\n",
              "      border-right-color: var(--fill-color);\n",
              "      border-bottom-color: var(--fill-color);\n",
              "    }\n",
              "    90% {\n",
              "      border-color: transparent;\n",
              "      border-bottom-color: var(--fill-color);\n",
              "    }\n",
              "  }\n",
              "</style>\n",
              "\n",
              "  <script>\n",
              "    async function quickchart(key) {\n",
              "      const quickchartButtonEl =\n",
              "        document.querySelector('#' + key + ' button');\n",
              "      quickchartButtonEl.disabled = true;  // To prevent multiple clicks.\n",
              "      quickchartButtonEl.classList.add('colab-df-spinner');\n",
              "      try {\n",
              "        const charts = await google.colab.kernel.invokeFunction(\n",
              "            'suggestCharts', [key], {});\n",
              "      } catch (error) {\n",
              "        console.error('Error during call to suggestCharts:', error);\n",
              "      }\n",
              "      quickchartButtonEl.classList.remove('colab-df-spinner');\n",
              "      quickchartButtonEl.classList.add('colab-df-quickchart-complete');\n",
              "    }\n",
              "    (() => {\n",
              "      let quickchartButtonEl =\n",
              "        document.querySelector('#df-47ff76ca-b53b-48f5-a290-cf37ea1e1c74 button');\n",
              "      quickchartButtonEl.style.display =\n",
              "        google.colab.kernel.accessAllowed ? 'block' : 'none';\n",
              "    })();\n",
              "  </script>\n",
              "</div>\n",
              "\n",
              "    </div>\n",
              "  </div>\n"
            ],
            "text/plain": [
              "       const  neighbourhood_group  room_type  minimum_nights  \\\n",
              "31228    1.0                    2          0              30   \n",
              "11382    1.0                    1          1               1   \n",
              "3753     1.0                    1          0               2   \n",
              "35446    1.0                    2          2               2   \n",
              "17156    1.0                    1          2              30   \n",
              "\n",
              "       number_of_reviews  availability_365  \n",
              "31228                  1                 3  \n",
              "11382                 21               130  \n",
              "3753                  23               190  \n",
              "35446                 15                96  \n",
              "17156                  1               341  "
            ]
          },
          "execution_count": 50,
          "metadata": {},
          "output_type": "execute_result"
        }
      ],
      "source": [
        "xtrain.head()"
      ]
    },
    {
      "cell_type": "code",
      "execution_count": null,
      "metadata": {
        "id": "hi2VQR_4YVqK"
      },
      "outputs": [],
      "source": [
        "########################################################    tried scaling negligible effect    #################################################\n",
        "\n",
        "# from sklearn.preprocessing import StandardScaler\n",
        "# # Create an instance of StandardScaler\n",
        "# scaler = StandardScaler()\n",
        "# # Fit the scaler to your data and transform it\n",
        "# x= scaler.fit_transform(x)\n",
        "# # Now, scaled_data contains the standardized values\n",
        "# print(x)\n",
        "# xtrain,xtest,ytrain,ytest = train_test_split(x,y,test_size=0.2,random_state=30)"
      ]
    },
    {
      "cell_type": "code",
      "execution_count": null,
      "metadata": {
        "colab": {
          "base_uri": "https://localhost:8080/"
        },
        "id": "GGrj9_EcxaFJ",
        "outputId": "22b652a1-e6d2-42b6-898b-1b6ec414ddef"
      },
      "outputs": [
        {
          "name": "stdout",
          "output_type": "stream",
          "text": [
            "Mean Squared Error (MSE): 3516.511152261501\n",
            "R-squared (R2): 0.3489601142300838\n",
            "Mape error (mape):46.806299561877644\n"
          ]
        }
      ],
      "source": [
        "# Create a linear regression model\n",
        "model = LinearRegression()\n",
        "\n",
        "# Fit the model on the training data\n",
        "model.fit(xtrain, ytrain)\n",
        "\n",
        "# Make predictions on the test set\n",
        "ypred = model.predict(xtest)\n",
        "\n",
        "# Evaluate the model\n",
        "mse = mean_squared_error(ytest, ypred)\n",
        "r2 = r2_score(ytest, ypred)\n",
        "\n",
        "# Calculate Mean Absolute Percentage Error (MAPE)\n",
        "ytest_replace0with1=ytest.replace(0,1);\n",
        "mape = 100 * np.mean(np.abs((ytest - ypred) / ytest_replace0with1))\n",
        "\n",
        "\n",
        "\n",
        "# Print the evaluation metrics\n",
        "print(f'Mean Squared Error (MSE): {mse}')\n",
        "print(f'R-squared (R2): {r2}')\n",
        "print(f'Mape error (mape):{mape}')"
      ]
    },
    {
      "cell_type": "code",
      "execution_count": null,
      "metadata": {
        "id": "qZewiYHK2FA-"
      },
      "outputs": [],
      "source": [
        "ypredhead=model.predict(xtest)"
      ]
    },
    {
      "cell_type": "code",
      "execution_count": null,
      "metadata": {
        "id": "LED2aqLEKWxS"
      },
      "outputs": [],
      "source": [
        "# Plot using y1 and y2 values\n",
        "# Sample data\n",
        "x_values = [i for i in range(1000,1020)]\n",
        "y1_values = ypred[1000:1020]\n",
        "y2_values = ytest.tolist()[1000:1020]"
      ]
    },
    {
      "cell_type": "code",
      "execution_count": null,
      "metadata": {
        "colab": {
          "base_uri": "https://localhost:8080/"
        },
        "id": "w04Cy5oSNXaI",
        "outputId": "cbfae4b1-7dbf-4d7e-8928-d956bf484904"
      },
      "outputs": [
        {
          "name": "stdout",
          "output_type": "stream",
          "text": [
            "[1000, 1001, 1002, 1003, 1004, 1005, 1006, 1007, 1008, 1009, 1010, 1011, 1012, 1013, 1014, 1015, 1016, 1017, 1018, 1019]\n",
            "[109.84413213 182.39068328 141.34146271 102.96308677  87.25562725\n",
            "  75.81988117  92.03656211 165.61766283 100.53418984 155.33420245\n",
            " 153.41822139  84.09327179  19.15310069 163.64169841  81.01987587\n",
            "  92.58091599 154.6184737  182.51151338 161.67552213  87.15421982]\n",
            "[40, 191, 160, 73, 53, 50, 89, 140, 55, 112, 199, 85, 59, 153, 120, 50, 169, 210, 160, 100]\n"
          ]
        }
      ],
      "source": [
        "print(x_values)\n",
        "print(y1_values)\n",
        "print(y2_values)"
      ]
    },
    {
      "cell_type": "code",
      "execution_count": null,
      "metadata": {
        "colab": {
          "base_uri": "https://localhost:8080/",
          "height": 472
        },
        "id": "Pz1BUBE2MUXI",
        "outputId": "04097e6f-3c12-412e-c99b-cab2e056df35"
      },
      "outputs": [
        {
          "data": {
            "image/png": "[encoded data removed]",
            "text/plain": [
              "<Figure size 640x480 with 1 Axes>"
            ]
          },
          "metadata": {},
          "output_type": "display_data"
        }
      ],
      "source": [
        "plt.plot(x_values, y1_values, label='y_pred')\n",
        "plt.plot(x_values, y2_values, label='y_test')\n",
        "\n",
        "plt.xlabel('X-axis')\n",
        "plt.ylabel('Y-axis')\n",
        "plt.title('Plot using ypred and ytest Values')\n",
        "plt.legend()\n",
        "plt.show()"
      ]
    },
    {
      "cell_type": "markdown",
      "metadata": {
        "id": "cTqTucavcw12"
      },
      "source": [
        "#Neural Network"
      ]
    },
    {
      "cell_type": "markdown",
      "metadata": {
        "id": "76ZnKp_BnLe0"
      },
      "source": [
        "### Split Train-Test for Neural Network"
      ]
    },
    {
      "cell_type": "code",
      "execution_count": 95,
      "metadata": {
        "colab": {
          "base_uri": "https://localhost:8080/"
        },
        "id": "t9tnBRHJnLe1",
        "outputId": "8f7afd9d-7a48-4f9e-9c91-3cda1f9d416f"
      },
      "outputs": [
        {
          "name": "stdout",
          "output_type": "stream",
          "text": [
            "<class 'pandas.core.frame.DataFrame'>\n",
            "RangeIndex: 46202 entries, 0 to 46201\n",
            "Data columns (total 8 columns):\n",
            " #   Column               Non-Null Count  Dtype  \n",
            "---  ------               --------------  -----  \n",
            " 0   neighbourhood_group  46202 non-null  int64  \n",
            " 1   latitude             46202 non-null  float64\n",
            " 2   longitude            46202 non-null  float64\n",
            " 3   room_type            46202 non-null  int64  \n",
            " 4   price                46202 non-null  int64  \n",
            " 5   minimum_nights       46202 non-null  int64  \n",
            " 6   number_of_reviews    46202 non-null  int64  \n",
            " 7   availability_365     46202 non-null  int64  \n",
            "dtypes: float64(2), int64(6)\n",
            "memory usage: 2.8 MB\n"
          ]
        }
      ],
      "source": [
        "base_df.info()"
      ]
    },
    {
      "cell_type": "code",
      "execution_count": 96,
      "metadata": {
        "id": "n7kHfxiJnLe1"
      },
      "outputs": [],
      "source": [
        "nn_columns_to_drop = []\n",
        "df = base_df.drop(columns = nn_columns_to_drop)\n",
        "# df = sm.add_constant(df)"
      ]
    },
    {
      "cell_type": "code",
      "execution_count": 97,
      "metadata": {
        "id": "sTYPqYYKnLe1"
      },
      "outputs": [],
      "source": [
        "# independent variables\n",
        "x = df.drop(columns=['price'])\n",
        "\n",
        "# target variable\n",
        "y = df['price']"
      ]
    },
    {
      "cell_type": "code",
      "execution_count": 98,
      "metadata": {
        "colab": {
          "base_uri": "https://localhost:8080/"
        },
        "id": "eIYo-5SIb7Rx",
        "outputId": "a7b5d437-c8c9-40b6-dbd9-24f7128a5680"
      },
      "outputs": [
        {
          "name": "stdout",
          "output_type": "stream",
          "text": [
            "[[-0.91412293 -1.4865345  -0.45152882 ... -0.29517912 -0.32694499\n",
            "   1.96136162]\n",
            " [-0.91412293 -0.80118414 -0.1761192  ... -0.29517912  5.45684636\n",
            "   0.64913438]\n",
            " [-0.91412293 -0.76951058 -0.09312502 ...  1.86761089  0.55945982\n",
            "  -0.83959126]\n",
            " ...\n",
            " [-2.27327553  1.92711099  0.89800017 ... -0.2460248  -0.52638607\n",
            "   1.95368777]\n",
            " [-2.27327553  1.90344684  0.86982583 ... -0.2460248  -0.52638607\n",
            "  -0.21800994]\n",
            " [-2.27327553  1.4328942   0.60489969 ... -0.29517912 -0.48206583\n",
            "  -0.53263752]]\n"
          ]
        }
      ],
      "source": [
        "# Create an instance of StandardScaler\n",
        "scaler = StandardScaler()\n",
        "\n",
        "# Fit the scaler to your data and transform it\n",
        "x= scaler.fit_transform(x)\n",
        "\n",
        "# Now, scaled_data contains the standardized values\n",
        "print(x)"
      ]
    },
    {
      "cell_type": "code",
      "execution_count": 99,
      "metadata": {
        "id": "Kt1UOlnjnLe1"
      },
      "outputs": [],
      "source": [
        "xtrain,xtest,ytrain,ytest = train_test_split(x,y,test_size=0.2,random_state=30)"
      ]
    },
    {
      "cell_type": "markdown",
      "metadata": {
        "id": "LyE9bDKYcNq1"
      },
      "source": [
        "### Model Tranining"
      ]
    },
    {
      "cell_type": "code",
      "execution_count": null,
      "metadata": {
        "colab": {
          "base_uri": "https://localhost:8080/"
        },
        "id": "Gncl-z98dl7p",
        "outputId": "2f94125b-6ad8-4640-be82-31df0b3942fc"
      },
      "outputs": [
        {
          "name": "stdout",
          "output_type": "stream",
          "text": [
            "[[ 0.44502966  1.1396407  -0.33795784 ...  1.13029611 -0.50422595\n",
            "  -0.81656973]\n",
            " [-0.91412293 -1.64963515 -1.41054837 ... -0.29517912 -0.06102355\n",
            "   0.15800839]\n",
            " [-0.91412293 -0.86289298  0.87921728 ... -0.2460248  -0.01670331\n",
            "   0.618439  ]\n",
            " ...\n",
            " [ 3.16333486 -1.8817259  -2.66157639 ... -0.29517912 -0.50422595\n",
            "  -0.83959126]\n",
            " [-0.91412293 -1.28702746 -0.20997209 ... -0.14771616 -0.45990571\n",
            "  -0.83959126]\n",
            " [ 0.44502966  0.3133976  -1.05935196 ... -0.19687048 -0.48206583\n",
            "  -0.57100674]]\n"
          ]
        }
      ],
      "source": [
        "print(xtrain)"
      ]
    },
    {
      "cell_type": "code",
      "execution_count": null,
      "metadata": {
        "colab": {
          "base_uri": "https://localhost:8080/"
        },
        "id": "InLGnLFcdozi",
        "outputId": "0fc8ef96-bcc5-4d3b-facf-09b9ead86df6"
      },
      "outputs": [
        {
          "name": "stdout",
          "output_type": "stream",
          "text": [
            "31228    175\n",
            "11382     51\n",
            "3753      90\n",
            "35446     45\n",
            "17156     35\n",
            "        ... \n",
            "919       75\n",
            "33268    200\n",
            "44845     75\n",
            "4517      89\n",
            "38693    240\n",
            "Name: price, Length: 36961, dtype: int64\n"
          ]
        }
      ],
      "source": [
        "print(ytrain)"
      ]
    },
    {
      "cell_type": "code",
      "execution_count": null,
      "metadata": {
        "colab": {
          "base_uri": "https://localhost:8080/"
        },
        "id": "Sc8PKtUdVsSj",
        "outputId": "91397030-2aab-40be-db34-ea9017b38ece"
      },
      "outputs": [
        {
          "name": "stderr",
          "output_type": "stream",
          "text": [
            "/usr/local/lib/python3.10/dist-packages/sklearn/neural_network/_multilayer_perceptron.py:693: UserWarning: Training interrupted by user.\n",
            "  warnings.warn(\"Training interrupted by user.\")\n"
          ]
        },
        {
          "name": "stdout",
          "output_type": "stream",
          "text": [
            "Parameters: {(100, 50, 25), 'relu', 0.0001}\n",
            "R2: 0.5491578427175796         MAE: 34.5379193613014       MSE: 2435.1679653519072\n",
            "\n"
          ]
        },
        {
          "name": "stderr",
          "output_type": "stream",
          "text": [
            "/usr/local/lib/python3.10/dist-packages/sklearn/neural_network/_multilayer_perceptron.py:693: UserWarning: Training interrupted by user.\n",
            "  warnings.warn(\"Training interrupted by user.\")\n"
          ]
        },
        {
          "name": "stdout",
          "output_type": "stream",
          "text": [
            "Parameters: {(100, 50, 25), 'relu', 0.001}\n",
            "R2: 0.4292319878763695         MAE: 39.392552438385586       MSE: 3082.9325880906276\n",
            "\n"
          ]
        },
        {
          "name": "stderr",
          "output_type": "stream",
          "text": [
            "/usr/local/lib/python3.10/dist-packages/sklearn/neural_network/_multilayer_perceptron.py:693: UserWarning: Training interrupted by user.\n",
            "  warnings.warn(\"Training interrupted by user.\")\n"
          ]
        },
        {
          "name": "stdout",
          "output_type": "stream",
          "text": [
            "Parameters: {(100, 50, 25), 'relu', 0.01}\n",
            "R2: 0.5552632254683181         MAE: 34.50338343082796       MSE: 2402.19049807061\n",
            "\n"
          ]
        },
        {
          "name": "stderr",
          "output_type": "stream",
          "text": [
            "/usr/local/lib/python3.10/dist-packages/sklearn/neural_network/_multilayer_perceptron.py:693: UserWarning: Training interrupted by user.\n",
            "  warnings.warn(\"Training interrupted by user.\")\n"
          ]
        },
        {
          "name": "stdout",
          "output_type": "stream",
          "text": [
            "Parameters: {(100, 50, 25), 'tanh', 0.0001}\n",
            "R2: -2.3387461903943945         MAE: 112.40360073782288       MSE: 18033.823226065415\n",
            "\n"
          ]
        }
      ],
      "source": [
        "# Assume X_train, X_test, y_train, y_test are already defined\n",
        "\n",
        "#grid search (a type of hyper-parameter tuning), will iterate all pair of combination\n",
        "params = {\n",
        "    'hidden_layer_sizes': [(100, 50, 25),(500,350,200,100,50)],\n",
        "    #(100,), (50, 50) #(1000,500,250,125,62,31)],\n",
        "    'activation': ['relu', 'tanh', 'logistic'],\n",
        "    'alpha': [0.0001, 0.001, 0.01] #learning rate (eeta -> in terms of back propogation)\n",
        "}\n",
        "\n",
        "best_mae = np.inf\n",
        "best_mse = np.inf\n",
        "best_r2 = -np.inf\n",
        "best_params = {}\n",
        "\n",
        "for hl in params['hidden_layer_sizes']:\n",
        "    for act in params['activation']:\n",
        "        for alpha in params['alpha']:\n",
        "            mlp = MLPRegressor(hidden_layer_sizes=hl, activation=act, alpha=alpha, max_iter=50, random_state=42)\n",
        "            mlp.fit(xtrain, ytrain)\n",
        "            ypred = mlp.predict(xtest)\n",
        "\n",
        "            mae = mean_absolute_error(ytest, ypred)\n",
        "            mse = mean_squared_error(ytest, ypred)\n",
        "            r2 = r2_score(ytest, ypred)\n",
        "\n",
        "            print(\"Parameters:\", {hl, act, alpha})\n",
        "            print(\"R2:\", r2, \"        MAE:\", mae, \"      MSE:\", mse)\n",
        "            print()\n",
        "\n",
        "            if r2 > best_r2:\n",
        "                best_mae = mae\n",
        "                best_mse = mse\n",
        "                best_r2 = r2\n",
        "                best_params = {'hidden_layer_sizes': hl, 'activation': act, 'alpha': alpha}\n",
        "\n",
        "\n",
        "print(\"Best Parameters:\", best_params)\n",
        "print(\"MAE:\", best_mae)\n",
        "print(\"MSE:\", best_mse)\n",
        "print(\"RMSE:\", np.sqrt(best_mse))\n",
        "print(\"R2:\", best_r2)"
      ]
    },
    {
      "cell_type": "code",
      "execution_count": 107,
      "metadata": {
        "colab": {
          "base_uri": "https://localhost:8080/"
        },
        "id": "d3ksGmUsd7_H",
        "outputId": "726049b9-00a6-4428-cd46-14d0c8c6e63e"
      },
      "outputs": [
        {
          "name": "stderr",
          "output_type": "stream",
          "text": [
            "/usr/local/lib/python3.10/dist-packages/sklearn/neural_network/_multilayer_perceptron.py:686: ConvergenceWarning: Stochastic Optimizer: Maximum iterations (50) reached and the optimization hasn't converged yet.\n",
            "  warnings.warn(\n"
          ]
        }
      ],
      "source": [
        "mlp = MLPRegressor(hidden_layer_sizes=(500, 350, 200, 100, 50), activation='relu', alpha=0.01, max_iter=50, random_state=42)\n",
        "mlp.fit(xtrain, ytrain)\n",
        "ypred = mlp.predict(xtest)"
      ]
    },
    {
      "cell_type": "code",
      "execution_count": 108,
      "metadata": {
        "colab": {
          "base_uri": "https://localhost:8080/"
        },
        "id": "sh3bKbMFNYDI",
        "outputId": "b5299766-4449-4c54-8f3c-15bb979f60a3"
      },
      "outputs": [
        {
          "name": "stdout",
          "output_type": "stream",
          "text": [
            "Parameters: {(500, 350, 200, 100, 50), 'relu', 0.01}\n",
            "R2: 0.47567722886811725         MAE: 37.05100700465107       MSE: 2832.064382490895\n",
            "\n"
          ]
        }
      ],
      "source": [
        "mae = mean_absolute_error(ytest, ypred)\n",
        "mse = mean_squared_error(ytest, ypred)\n",
        "r2 = r2_score(ytest, ypred)\n",
        "\n",
        "print(\"Parameters:\", {(500, 350, 200, 100, 50), \"relu\", 0.01})\n",
        "print(\"R2:\", r2, \"        MAE:\", mae, \"      MSE:\", mse)\n",
        "print()"
      ]
    },
    {
      "cell_type": "code",
      "execution_count": 109,
      "metadata": {
        "id": "0v-m0ADfM1mu"
      },
      "outputs": [],
      "source": [
        "# Plot using y1 and y2 values\n",
        "# Sample data\n",
        "s = 400\n",
        "e = 420\n",
        "x_values = [i for i in range(s,e)]\n",
        "y1_values = ypred[s:e]\n",
        "y2_values = ytest.tolist()[s:e]"
      ]
    },
    {
      "cell_type": "code",
      "execution_count": 110,
      "metadata": {
        "colab": {
          "base_uri": "https://localhost:8080/",
          "height": 472
        },
        "id": "gEKVriT4d_Lq",
        "outputId": "63921617-77cc-4b37-bda8-ae27fea15e18"
      },
      "outputs": [
        {
          "data": {
            "image/png": "[encoded data removed]",
            "text/plain": [
              "<Figure size 640x480 with 1 Axes>"
            ]
          },
          "metadata": {},
          "output_type": "display_data"
        }
      ],
      "source": [
        "plt.plot(x_values, y1_values, label='predictions')\n",
        "plt.plot(x_values, y2_values, label='y_test')\n",
        "\n",
        "plt.xlabel('X-axis')\n",
        "plt.ylabel('Y-axis')\n",
        "plt.title('Plot using ypred and ytest Values')\n",
        "plt.legend()\n",
        "plt.show()"
      ]
    },
    {
      "cell_type": "markdown",
      "metadata": {
        "id": "X5c9IIPgkiZt"
      },
      "source": [
        "# Decision Tree Regressor"
      ]
    },
    {
      "cell_type": "markdown",
      "metadata": {
        "id": "i32G3JBxqxkM"
      },
      "source": [
        "### Train-Test Split"
      ]
    },
    {
      "cell_type": "code",
      "execution_count": 100,
      "metadata": {
        "colab": {
          "base_uri": "https://localhost:8080/"
        },
        "id": "UU34fmq9ppXl",
        "outputId": "f06d24b9-0a8b-46c3-9eaf-71a6bd752ce4"
      },
      "outputs": [
        {
          "name": "stdout",
          "output_type": "stream",
          "text": [
            "<class 'pandas.core.frame.DataFrame'>\n",
            "RangeIndex: 46202 entries, 0 to 46201\n",
            "Data columns (total 8 columns):\n",
            " #   Column               Non-Null Count  Dtype  \n",
            "---  ------               --------------  -----  \n",
            " 0   neighbourhood_group  46202 non-null  int64  \n",
            " 1   latitude             46202 non-null  float64\n",
            " 2   longitude            46202 non-null  float64\n",
            " 3   room_type            46202 non-null  int64  \n",
            " 4   price                46202 non-null  int64  \n",
            " 5   minimum_nights       46202 non-null  int64  \n",
            " 6   number_of_reviews    46202 non-null  int64  \n",
            " 7   availability_365     46202 non-null  int64  \n",
            "dtypes: float64(2), int64(6)\n",
            "memory usage: 2.8 MB\n"
          ]
        }
      ],
      "source": [
        "base_df.info()"
      ]
    },
    {
      "cell_type": "code",
      "execution_count": 101,
      "metadata": {
        "id": "mAkwL8MFp3vM"
      },
      "outputs": [],
      "source": [
        "dt_columns_to_drop = []\n",
        "df = base_df.drop(columns = dt_columns_to_drop)\n",
        "# df = sm.add_constant(df)"
      ]
    },
    {
      "cell_type": "code",
      "execution_count": 102,
      "metadata": {
        "id": "DKxOgHX0z8ip"
      },
      "outputs": [],
      "source": [
        "# independent variables\n",
        "x = df.drop(columns=['price'])\n",
        "\n",
        "# target variable\n",
        "y = df['price']\n",
        "\n",
        "xtrain,xtest,ytrain,ytest = train_test_split(x,y,test_size=0.2,random_state=30)"
      ]
    },
    {
      "cell_type": "code",
      "execution_count": 103,
      "metadata": {
        "colab": {
          "base_uri": "https://localhost:8080/"
        },
        "id": "PoJB5DSx0CCJ",
        "outputId": "ee7048cb-cf75-4f42-a24b-323a8c16e080"
      },
      "outputs": [
        {
          "name": "stdout",
          "output_type": "stream",
          "text": [
            "<class 'pandas.core.frame.DataFrame'>\n",
            "Int64Index: 36961 entries, 31228 to 38693\n",
            "Data columns (total 7 columns):\n",
            " #   Column               Non-Null Count  Dtype  \n",
            "---  ------               --------------  -----  \n",
            " 0   neighbourhood_group  36961 non-null  int64  \n",
            " 1   latitude             36961 non-null  float64\n",
            " 2   longitude            36961 non-null  float64\n",
            " 3   room_type            36961 non-null  int64  \n",
            " 4   minimum_nights       36961 non-null  int64  \n",
            " 5   number_of_reviews    36961 non-null  int64  \n",
            " 6   availability_365     36961 non-null  int64  \n",
            "dtypes: float64(2), int64(5)\n",
            "memory usage: 2.3 MB\n"
          ]
        }
      ],
      "source": [
        "xtrain.info()"
      ]
    },
    {
      "cell_type": "markdown",
      "metadata": {
        "id": "R1boHm_vqrq0"
      },
      "source": [
        "### Model Fitting"
      ]
    },
    {
      "cell_type": "code",
      "execution_count": 104,
      "metadata": {
        "colab": {
          "base_uri": "https://localhost:8080/"
        },
        "id": "s9LMtkhWkpZM",
        "outputId": "d6ac7e79-e09f-4466-d1fb-1fc43eae2ab2"
      },
      "outputs": [
        {
          "name": "stdout",
          "output_type": "stream",
          "text": [
            "R-squared score (training): 0.589\n",
            "R-squared score (test): 0.551\n"
          ]
        }
      ],
      "source": [
        "DTree=DecisionTreeRegressor(min_samples_leaf=.002)\n",
        "DTree.fit(xtrain,ytrain)\n",
        "\n",
        "ypred=DTree.predict(xtest)\n",
        "\n",
        "print('R-squared score (training): {:.3f}'.format(DTree.score(xtrain, ytrain)))\n",
        "print('R-squared score (test): {:.3f}'.format(DTree.score(xtest, ytest)))"
      ]
    },
    {
      "cell_type": "code",
      "execution_count": 105,
      "metadata": {
        "id": "0JWbqzYQ1bMz"
      },
      "outputs": [],
      "source": [
        "# Plot using y1 and y2 values\n",
        "# Sample data\n",
        "s = 890\n",
        "e = 910\n",
        "x_values = [i for i in range(s,e)]\n",
        "y1_values = ypred[s:e]\n",
        "y2_values = ytest.tolist()[s:e]"
      ]
    },
    {
      "cell_type": "code",
      "execution_count": 106,
      "metadata": {
        "colab": {
          "base_uri": "https://localhost:8080/",
          "height": 472
        },
        "id": "e7xKl-yQ1joP",
        "outputId": "b799c1b2-a902-4ca9-c3f8-dbbab362acf5"
      },
      "outputs": [
        {
          "data": {
            "image/png": "[encoded data removed]",
            "text/plain": [
              "<Figure size 640x480 with 1 Axes>"
            ]
          },
          "metadata": {},
          "output_type": "display_data"
        }
      ],
      "source": [
        "plt.plot(x_values, y1_values, label='predictions')\n",
        "plt.plot(x_values, y2_values, label='y_test')\n",
        "\n",
        "plt.xlabel('X-axis')\n",
        "plt.ylabel('Y-axis')\n",
        "plt.title('Plot using ypred and ytest Values')\n",
        "plt.legend()\n",
        "plt.show()"
      ]
    },
    {
      "cell_type": "markdown",
      "metadata": {
        "id": "2SMIT7CRU95e"
      },
      "source": []
    }
  ],
  "metadata": {
    "colab": {
      "collapsed_sections": [
        "Cg9oG3DKBPqx",
        "PamOt2sEBUKy",
        "wUVM7iCrkp-A",
        "MXeGP5EwDbe_",
        "zJ5QRQCBF1fX",
        "0akiQt_KF3fV",
        "aVm_FXWdImNu",
        "9l5TsBDUIw3v",
        "9iz9wtjkKckc",
        "Mrh3Bmw1O-Yk",
        "41JEM1ZaKz9j",
        "bzOLEGTMMhUd",
        "XOxl1N8bbbu-",
        "CwR8WJGpMlqj",
        "9R9PStNnMnYt",
        "cTqTucavcw12",
        "76ZnKp_BnLe0",
        "LyE9bDKYcNq1",
        "X5c9IIPgkiZt",
        "i32G3JBxqxkM",
        "R1boHm_vqrq0"
      ],
      "provenance": []
    },
    "kernelspec": {
      "display_name": "Python 3",
      "name": "python3"
    },
    "language_info": {
      "name": "python"
    }
  },
  "nbformat": 4,
  "nbformat_minor": 0
}
